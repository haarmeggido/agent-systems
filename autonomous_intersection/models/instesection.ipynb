{
 "cells": [
  {
   "cell_type": "code",
   "execution_count": null,
   "metadata": {},
   "outputs": [
    {
     "name": "stderr",
     "output_type": "stream",
     "text": [
      "c:\\Users\\Karolina\\AppData\\Local\\Programs\\Python\\Python312\\Lib\\site-packages\\tqdm\\auto.py:21: TqdmWarning: IProgress not found. Please update jupyter and ipywidgets. See https://ipywidgets.readthedocs.io/en/stable/user_install.html\n",
      "  from .autonotebook import tqdm as notebook_tqdm\n"
     ]
    },
    {
     "ename": "ImportError",
     "evalue": "cannot import name 'SimultaneousActivation' from 'mesa' (c:\\Users\\Karolina\\AppData\\Local\\Programs\\Python\\Python312\\Lib\\site-packages\\mesa\\__init__.py)",
     "output_type": "error",
     "traceback": [
      "\u001b[1;31m---------------------------------------------------------------------------\u001b[0m",
      "\u001b[1;31mImportError\u001b[0m                               Traceback (most recent call last)",
      "Cell \u001b[1;32mIn[1], line 3\u001b[0m\n\u001b[0;32m      1\u001b[0m \u001b[38;5;28;01mfrom\u001b[39;00m \u001b[38;5;21;01mmesa\u001b[39;00m \u001b[38;5;28;01mimport\u001b[39;00m Model\n\u001b[0;32m      2\u001b[0m \u001b[38;5;28;01mfrom\u001b[39;00m \u001b[38;5;21;01mmesa\u001b[39;00m\u001b[38;5;21;01m.\u001b[39;00m\u001b[38;5;21;01mspace\u001b[39;00m \u001b[38;5;28;01mimport\u001b[39;00m MultiGrid\n\u001b[1;32m----> 3\u001b[0m \u001b[38;5;28;01mfrom\u001b[39;00m \u001b[38;5;21;01mmesa\u001b[39;00m \u001b[38;5;28;01mimport\u001b[39;00m SimultaneousActivation\n\u001b[0;32m      4\u001b[0m \u001b[38;5;28;01mfrom\u001b[39;00m \u001b[38;5;21;01mvehicle\u001b[39;00m \u001b[38;5;28;01mimport\u001b[39;00m VehicleAgent\n\u001b[0;32m      5\u001b[0m \u001b[38;5;28;01mimport\u001b[39;00m \u001b[38;5;21;01mrandom\u001b[39;00m\n",
      "\u001b[1;31mImportError\u001b[0m: cannot import name 'SimultaneousActivation' from 'mesa' (c:\\Users\\Karolina\\AppData\\Local\\Programs\\Python\\Python312\\Lib\\site-packages\\mesa\\__init__.py)"
     ]
    }
   ],
   "source": [
    "from mesa import Model\n",
    "from mesa.space import MultiGrid\n",
    "from mesa import SimultaneousActivation\n",
    "from vehicle import VehicleAgent\n",
    "import random\n",
    "\n",
    "class IntersectionModel(Model):\n",
    "    def __init__(self, width=10, height=10, num_vehicles=5):\n",
    "        super().__init__()\n",
    "        self.grid = MultiGrid(width, height, torus=False)  # A grid for movement\n",
    "        self.schedule = SimultaneousActivation(self)  # Vehicles move in parallel\n",
    "        self.intersection_center = (width//2, height//2)\n",
    "        self.intersection_area = [(width//2, y) for y in range(height//2 - 1, height//2 + 2)]\n",
    "\n",
    "        # Spawn vehicles at random edges\n",
    "        for i in range(num_vehicles):\n",
    "            direction = random.choice([\"N\", \"S\", \"E\", \"W\"])\n",
    "            pos = (0, random.randint(0, height - 1)) if direction == \"E\" else \\\n",
    "                  (width - 1, random.randint(0, height - 1)) if direction == \"W\" else \\\n",
    "                  (random.randint(0, width - 1), 0) if direction == \"N\" else \\\n",
    "                  (random.randint(0, width - 1), height - 1)\n",
    "            \n",
    "            agent = VehicleAgent(i, self, direction)\n",
    "            agent.position = pos\n",
    "            self.grid.place_agent(agent, pos)\n",
    "            self.schedule.add(agent)\n",
    "\n",
    "    def step(self):\n",
    "        \"\"\" Advance the model by one step. \"\"\"\n",
    "        self.schedule.step()\n"
   ]
  }
 ],
 "metadata": {
  "kernelspec": {
   "display_name": "Python 3",
   "language": "python",
   "name": "python3"
  },
  "language_info": {
   "codemirror_mode": {
    "name": "ipython",
    "version": 3
   },
   "file_extension": ".py",
   "mimetype": "text/x-python",
   "name": "python",
   "nbconvert_exporter": "python",
   "pygments_lexer": "ipython3",
   "version": "3.12.1"
  }
 },
 "nbformat": 4,
 "nbformat_minor": 2
}
