{
 "cells": [
  {
   "cell_type": "code",
   "id": "8517c762-ae40-4b57-9299-769a1da56bc2",
   "metadata": {
    "ExecuteTime": {
     "end_time": "2025-05-04T15:12:02.707825Z",
     "start_time": "2025-05-04T15:12:01.009403Z"
    }
   },
   "source": [
    "import osmnx as ox\n",
    "import networkx as nx"
   ],
   "outputs": [],
   "execution_count": 1
  },
  {
   "metadata": {
    "ExecuteTime": {
     "end_time": "2025-05-04T15:12:05.752742Z",
     "start_time": "2025-05-04T15:12:05.750860Z"
    }
   },
   "cell_type": "code",
   "source": "ox.settings.use_cache = False",
   "id": "e74da95ddc68ea53",
   "outputs": [],
   "execution_count": 2
  },
  {
   "cell_type": "code",
   "id": "ffdd6683-c00b-466e-a4d3-87d745f1c5f6",
   "metadata": {
    "ExecuteTime": {
     "end_time": "2025-05-04T15:12:06.942323Z",
     "start_time": "2025-05-04T15:12:05.803010Z"
    }
   },
   "source": [
    "G = ox.graph.graph_from_bbox((19.912119, 50.066637, 19.921871, 50.069047), network_type='drive')\n",
    "G"
   ],
   "outputs": [
    {
     "data": {
      "text/plain": [
       "<networkx.classes.multidigraph.MultiDiGraph at 0x7f6e1f0ee780>"
      ]
     },
     "execution_count": 3,
     "metadata": {},
     "output_type": "execute_result"
    }
   ],
   "execution_count": 3
  },
  {
   "cell_type": "code",
   "id": "1b710594",
   "metadata": {
    "ExecuteTime": {
     "end_time": "2025-05-04T15:12:06.968409Z",
     "start_time": "2025-05-04T15:12:06.965479Z"
    }
   },
   "source": [
    "print(G)\n",
    "print(nx.number_of_nodes(G))\n",
    "print(nx.number_of_edges(G))\n",
    "\n",
    "for edge in G.edges(data=True):\n",
    "    print(edge)\n",
    "\n",
    "for node in G.nodes(data=True):\n",
    "    print(node)"
   ],
   "outputs": [
    {
     "name": "stdout",
     "output_type": "stream",
     "text": [
      "MultiDiGraph with 15 nodes and 27 edges\n",
      "15\n",
      "27\n",
      "(236160006, 264345061, {'osmid': 24345907, 'highway': 'residential', 'lanes': '2', 'maxspeed': '50', 'name': 'Miechowska', 'oneway': False, 'reversed': True, 'length': np.float64(22.119597424091033), 'geometry': <LINESTRING (19.914 50.068, 19.914 50.068, 19.914 50.067)>})\n",
      "(236160006, 236306981, {'osmid': 24559263, 'highway': 'secondary', 'lanes': '3', 'maxspeed': '50', 'name': 'Nawojki', 'oneway': False, 'reversed': False, 'length': np.float64(70.5049494600211), 'geometry': <LINESTRING (19.914 50.068, 19.914 50.068, 19.914 50.068)>})\n",
      "(236160006, 236160072, {'osmid': [538978472, 840207982, 840207983, 440915828, 384158490], 'highway': 'secondary', 'lanes': '3', 'maxspeed': '50', 'name': 'Czarnowiejska', 'oneway': False, 'reversed': [False, True], 'length': np.float64(264.389154709604), 'geometry': <LINESTRING (19.914 50.068, 19.915 50.068, 19.915 50.068, 19.915 50.068, 19....>})\n",
      "(236160072, 267538595, {'osmid': 155221402, 'highway': 'secondary', 'lanes': '3', 'maxspeed': '50', 'name': 'Czarnowiejska', 'oneway': False, 'reversed': False, 'length': np.float64(170.13440517414654), 'geometry': <LINESTRING (19.918 50.068, 19.919 50.067, 19.919 50.067, 19.919 50.067, 19....>})\n",
      "(236160072, 273461469, {'osmid': 178067341, 'highway': 'residential', 'lanes': '2', 'maxspeed': '50', 'name': 'Urzędnicza', 'oneway': False, 'reversed': True, 'length': np.float64(17.58251982326308), 'geometry': <LINESTRING (19.918 50.068, 19.918 50.068, 19.918 50.068)>})\n",
      "(236160072, 236160006, {'osmid': [538978472, 840207982, 840207983, 440915828, 384158490], 'highway': 'secondary', 'lanes': '3', 'maxspeed': '50', 'name': 'Czarnowiejska', 'oneway': False, 'reversed': [False, True], 'length': np.float64(264.38915470960393), 'geometry': <LINESTRING (19.918 50.068, 19.918 50.068, 19.918 50.068, 19.918 50.068, 19....>})\n",
      "(236306981, 236160006, {'osmid': 24559263, 'highway': 'secondary', 'lanes': '3', 'maxspeed': '50', 'name': 'Nawojki', 'oneway': False, 'reversed': True, 'length': np.float64(70.5049494600211), 'geometry': <LINESTRING (19.914 50.068, 19.914 50.068, 19.914 50.068)>})\n",
      "(236306981, 281474610, {'osmid': 713092110, 'highway': 'tertiary', 'lanes': '3', 'maxspeed': '50', 'name': 'Aleja Kijowska', 'oneway': False, 'reversed': False, 'length': np.float64(62.130973879563335), 'geometry': <LINESTRING (19.914 50.068, 19.914 50.068, 19.914 50.068, 19.914 50.068, 19....>})\n",
      "(264345061, 236160006, {'osmid': 24345907, 'highway': 'residential', 'lanes': '2', 'maxspeed': '50', 'name': 'Miechowska', 'oneway': False, 'reversed': False, 'length': np.float64(22.119597424091033), 'geometry': <LINESTRING (19.914 50.067, 19.914 50.068, 19.914 50.068)>})\n",
      "(267538595, 273461466, {'osmid': [24611315, 288028119], 'highway': 'residential', 'maxspeed': '30', 'name': 'Stanisława Konarskiego', 'oneway': True, 'reversed': False, 'length': np.float64(158.64554438502202), 'lanes': '1', 'geometry': <LINESTRING (19.92 50.067, 19.92 50.067, 19.921 50.068, 19.921 50.068)>})\n",
      "(267538595, 236160072, {'osmid': 155221402, 'highway': 'secondary', 'lanes': '3', 'maxspeed': '50', 'name': 'Czarnowiejska', 'oneway': False, 'reversed': True, 'length': np.float64(170.13440517414654), 'geometry': <LINESTRING (19.92 50.067, 19.919 50.067, 19.919 50.067, 19.919 50.067, 19.9...>})\n",
      "(273461469, 273461466, {'osmid': 25116630, 'highway': 'residential', 'maxspeed': '30', 'name': 'Fryderyka Chopina', 'oneway': True, 'reversed': False, 'length': np.float64(201.96752216391994), 'geometry': <LINESTRING (19.918 50.068, 19.918 50.068, 19.92 50.068, 19.921 50.068, 19.9...>})\n",
      "(273461469, 236160072, {'osmid': 178067341, 'highway': 'residential', 'lanes': '2', 'maxspeed': '50', 'name': 'Urzędnicza', 'oneway': False, 'reversed': False, 'length': np.float64(17.58251982326308), 'geometry': <LINESTRING (19.918 50.068, 19.918 50.068, 19.918 50.068)>})\n",
      "(281474610, 236306981, {'osmid': 713092110, 'highway': 'tertiary', 'lanes': '3', 'maxspeed': '50', 'name': 'Aleja Kijowska', 'oneway': False, 'reversed': True, 'length': np.float64(62.13097387956333), 'geometry': <LINESTRING (19.914 50.069, 19.914 50.068, 19.914 50.068, 19.914 50.068, 19....>})\n",
      "(281474610, 281474691, {'osmid': [1155625064, 25805358], 'highway': 'residential', 'lanes': '2', 'maxspeed': '30', 'name': 'Elbląska', 'oneway': False, 'reversed': True, 'length': np.float64(116.91434877877035), 'geometry': <LINESTRING (19.914 50.069, 19.914 50.068, 19.915 50.068, 19.915 50.069, 19....>})\n",
      "(281474691, 281474610, {'osmid': [1155625064, 25805358], 'highway': 'residential', 'maxspeed': '30', 'name': 'Elbląska', 'oneway': False, 'reversed': False, 'length': np.float64(116.91434877877035), 'lanes': '2', 'geometry': <LINESTRING (19.915 50.069, 19.915 50.069, 19.915 50.069, 19.915 50.069, 19....>})\n",
      "(281474691, 3044475380, {'osmid': 300358971, 'highway': 'residential', 'name': 'Chocimska', 'oneway': False, 'reversed': False, 'length': np.float64(150.68126537200607), 'geometry': <LINESTRING (19.915 50.069, 19.915 50.069, 19.915 50.068, 19.915 50.068, 19....>})\n",
      "(281474691, 3376781934, {'osmid': 330685750, 'highway': 'residential', 'lanes': '1', 'oneway': False, 'reversed': False, 'length': np.float64(37.37553499032879), 'geometry': <LINESTRING (19.915 50.069, 19.915 50.069, 19.916 50.069)>})\n",
      "(495649040, 495649052, {'osmid': 40779705, 'highway': 'residential', 'lanes': '2', 'maxspeed': '30', 'name': 'Ogrodniczek', 'oneway': False, 'reversed': True, 'length': np.float64(71.86869400479833), 'geometry': <LINESTRING (19.918 50.069, 19.918 50.069, 19.917 50.069, 19.917 50.069)>})\n",
      "(495649040, 273461469, {'osmid': 447662460, 'highway': 'residential', 'maxspeed': '30', 'name': 'Urzędnicza', 'oneway': True, 'reversed': False, 'length': np.float64(135.21277684557657), 'geometry': <LINESTRING (19.918 50.069, 19.918 50.068, 19.918 50.068)>})\n",
      "(495649052, 495649054, {'osmid': 40779666, 'highway': 'residential', 'maxspeed': '30', 'name': 'Spokojna', 'oneway': False, 'reversed': False, 'length': np.float64(124.95841262149663), 'geometry': <LINESTRING (19.917 50.069, 19.917 50.068, 19.917 50.068)>})\n",
      "(495649052, 495649040, {'osmid': 40779705, 'highway': 'residential', 'lanes': '2', 'maxspeed': '30', 'name': 'Ogrodniczek', 'oneway': False, 'reversed': False, 'length': np.float64(71.86869400479834), 'geometry': <LINESTRING (19.917 50.069, 19.917 50.069, 19.918 50.069, 19.918 50.069)>})\n",
      "(495649054, 495649052, {'osmid': 40779666, 'highway': 'residential', 'maxspeed': '30', 'name': 'Spokojna', 'oneway': False, 'reversed': True, 'length': np.float64(124.95841262149663), 'geometry': <LINESTRING (19.917 50.068, 19.917 50.068, 19.917 50.069)>})\n",
      "(3044475380, 281474691, {'osmid': 300358971, 'highway': 'residential', 'name': 'Chocimska', 'oneway': False, 'reversed': True, 'length': np.float64(150.68126537200607), 'geometry': <LINESTRING (19.916 50.068, 19.915 50.068, 19.915 50.068, 19.915 50.068, 19....>})\n",
      "(3376781933, 3376781934, {'osmid': 330685750, 'highway': 'residential', 'lanes': '1', 'oneway': False, 'reversed': True, 'length': np.float64(10.114138764229109)})\n",
      "(3376781934, 3376781933, {'osmid': 330685750, 'highway': 'residential', 'lanes': '1', 'oneway': False, 'reversed': False, 'length': np.float64(10.114138764229109)})\n",
      "(3376781934, 281474691, {'osmid': 330685750, 'highway': 'residential', 'lanes': '1', 'oneway': False, 'reversed': True, 'length': np.float64(37.37553499032879), 'geometry': <LINESTRING (19.916 50.069, 19.915 50.069, 19.915 50.069)>})\n",
      "(236160006, {'y': 50.0676446, 'x': 19.9144835, 'street_count': 3})\n",
      "(236160072, {'y': 50.0675762, 'x': 19.918162, 'highway': 'traffic_signals', 'street_count': 3})\n",
      "(236306981, {'y': 50.0679708, 'x': 19.9136371, 'highway': 'traffic_signals', 'street_count': 3})\n",
      "(264345061, {'y': 50.0674527, 'x': 19.9144019, 'street_count': 3})\n",
      "(267538595, {'y': 50.0669962, 'x': 19.9203677, 'street_count': 4})\n",
      "(273461466, {'y': 50.0683923, 'x': 19.9208255, 'street_count': 4})\n",
      "(273461469, {'y': 50.0677319, 'x': 19.9182035, 'street_count': 3})\n",
      "(281474610, {'y': 50.0685162, 'x': 19.913807, 'street_count': 3})\n",
      "(281474691, {'y': 50.0686581, 'x': 19.9153155, 'street_count': 4})\n",
      "(495649040, {'y': 50.0689448, 'x': 19.9183386, 'street_count': 3})\n",
      "(495649052, {'y': 50.0690013, 'x': 19.9173355, 'street_count': 3})\n",
      "(495649054, {'y': 50.067881, 'x': 19.9171979, 'street_count': 1})\n",
      "(3044475380, {'y': 50.0678706, 'x': 19.9160781, 'street_count': 1})\n",
      "(3376781933, {'y': 50.0686155, 'x': 19.9159768, 'street_count': 1})\n",
      "(3376781934, {'y': 50.0686232, 'x': 19.9158356, 'street_count': 3})\n"
     ]
    }
   ],
   "execution_count": 4
  },
  {
   "cell_type": "code",
   "id": "fecdf0c1",
   "metadata": {
    "ExecuteTime": {
     "end_time": "2025-05-04T15:12:09.319729Z",
     "start_time": "2025-05-04T15:12:09.048235Z"
    }
   },
   "source": [
    "from random import sample\n",
    "\n",
    "\n",
    "def get_all_node_ids(graph):\n",
    "  return list(graph.nodes)\n",
    "\n",
    "def bfs_shortest_path(graph, source, target):\n",
    "  return nx.shortest_path(graph, source=source, target=target, weight='length')\n",
    "\n",
    "node_1 = sample(list(G.nodes), 1)[0]\n",
    "node_2 = sample(list(G.nodes), 1)[0]\n",
    "print(node_1, node_2)\n",
    "path = bfs_shortest_path(G, node_1, node_2)\n",
    "print(path)\n",
    "\n",
    "# draw graph with path\n",
    "fig, ax = ox.plot_graph(G, node_size=0, edge_color='gray', edge_linewidth=0.5)\n",
    "ox.plot_graph_route(G, path, ax=ax, route_linewidth=6, node_size=0, edge_color='r')\n",
    "\n",
    "# save the plot\n",
    "fig.savefig('path.png', dpi=300, bbox_inches='tight')\n",
    "ox.plot_graph(G, node_size=0, edge_color='gray', edge_linewidth=0.5)\n",
    "\n"
   ],
   "outputs": [
    {
     "name": "stdout",
     "output_type": "stream",
     "text": [
      "267538595 495649054\n"
     ]
    },
    {
     "ename": "NetworkXNoPath",
     "evalue": "No path between 267538595 and 495649054.",
     "output_type": "error",
     "traceback": [
      "\u001B[31m---------------------------------------------------------------------------\u001B[39m",
      "\u001B[31mNetworkXNoPath\u001B[39m                            Traceback (most recent call last)",
      "\u001B[36mCell\u001B[39m\u001B[36m \u001B[39m\u001B[32mIn[5]\u001B[39m\u001B[32m, line 13\u001B[39m\n\u001B[32m     11\u001B[39m node_2 = sample(\u001B[38;5;28mlist\u001B[39m(G.nodes), \u001B[32m1\u001B[39m)[\u001B[32m0\u001B[39m]\n\u001B[32m     12\u001B[39m \u001B[38;5;28mprint\u001B[39m(node_1, node_2)\n\u001B[32m---> \u001B[39m\u001B[32m13\u001B[39m path = \u001B[43mbfs_shortest_path\u001B[49m\u001B[43m(\u001B[49m\u001B[43mG\u001B[49m\u001B[43m,\u001B[49m\u001B[43m \u001B[49m\u001B[43mnode_1\u001B[49m\u001B[43m,\u001B[49m\u001B[43m \u001B[49m\u001B[43mnode_2\u001B[49m\u001B[43m)\u001B[49m\n\u001B[32m     14\u001B[39m \u001B[38;5;28mprint\u001B[39m(path)\n\u001B[32m     16\u001B[39m \u001B[38;5;66;03m# draw graph with path\u001B[39;00m\n",
      "\u001B[36mCell\u001B[39m\u001B[36m \u001B[39m\u001B[32mIn[5]\u001B[39m\u001B[32m, line 8\u001B[39m, in \u001B[36mbfs_shortest_path\u001B[39m\u001B[34m(graph, source, target)\u001B[39m\n\u001B[32m      7\u001B[39m \u001B[38;5;28;01mdef\u001B[39;00m\u001B[38;5;250m \u001B[39m\u001B[34mbfs_shortest_path\u001B[39m(graph, source, target):\n\u001B[32m----> \u001B[39m\u001B[32m8\u001B[39m   \u001B[38;5;28;01mreturn\u001B[39;00m \u001B[43mnx\u001B[49m\u001B[43m.\u001B[49m\u001B[43mshortest_path\u001B[49m\u001B[43m(\u001B[49m\u001B[43mgraph\u001B[49m\u001B[43m,\u001B[49m\u001B[43m \u001B[49m\u001B[43msource\u001B[49m\u001B[43m=\u001B[49m\u001B[43msource\u001B[49m\u001B[43m,\u001B[49m\u001B[43m \u001B[49m\u001B[43mtarget\u001B[49m\u001B[43m=\u001B[49m\u001B[43mtarget\u001B[49m\u001B[43m,\u001B[49m\u001B[43m \u001B[49m\u001B[43mweight\u001B[49m\u001B[43m=\u001B[49m\u001B[33;43m'\u001B[39;49m\u001B[33;43mlength\u001B[39;49m\u001B[33;43m'\u001B[39;49m\u001B[43m)\u001B[49m\n",
      "\u001B[36mFile \u001B[39m\u001B[32m~/anaconda3/envs/osmnx-examples/lib/python3.13/site-packages/networkx/utils/decorators.py:788\u001B[39m, in \u001B[36margmap.__call__.<locals>.func\u001B[39m\u001B[34m(_argmap__wrapper, *args, **kwargs)\u001B[39m\n\u001B[32m    787\u001B[39m \u001B[38;5;28;01mdef\u001B[39;00m\u001B[38;5;250m \u001B[39m\u001B[34mfunc\u001B[39m(*args, __wrapper=\u001B[38;5;28;01mNone\u001B[39;00m, **kwargs):\n\u001B[32m--> \u001B[39m\u001B[32m788\u001B[39m     \u001B[38;5;28;01mreturn\u001B[39;00m \u001B[43margmap\u001B[49m\u001B[43m.\u001B[49m\u001B[43m_lazy_compile\u001B[49m\u001B[43m(\u001B[49m\u001B[43m__wrapper\u001B[49m\u001B[43m)\u001B[49m\u001B[43m(\u001B[49m\u001B[43m*\u001B[49m\u001B[43margs\u001B[49m\u001B[43m,\u001B[49m\u001B[43m \u001B[49m\u001B[43m*\u001B[49m\u001B[43m*\u001B[49m\u001B[43mkwargs\u001B[49m\u001B[43m)\u001B[49m\n",
      "\u001B[36mFile \u001B[39m\u001B[32m<class 'networkx.utils.decorators.argmap'> compilation 26:3\u001B[39m, in \u001B[36margmap_shortest_path_23\u001B[39m\u001B[34m(G, source, target, weight, method, backend, **backend_kwargs)\u001B[39m\n\u001B[32m      1\u001B[39m \u001B[38;5;28;01mimport\u001B[39;00m\u001B[38;5;250m \u001B[39m\u001B[34;01mbz2\u001B[39;00m\n\u001B[32m      2\u001B[39m \u001B[38;5;28;01mimport\u001B[39;00m\u001B[38;5;250m \u001B[39m\u001B[34;01mcollections\u001B[39;00m\n\u001B[32m----> \u001B[39m\u001B[32m3\u001B[39m \u001B[38;5;28;01mimport\u001B[39;00m\u001B[38;5;250m \u001B[39m\u001B[34;01mgzip\u001B[39;00m\n\u001B[32m      4\u001B[39m \u001B[38;5;28;01mimport\u001B[39;00m\u001B[38;5;250m \u001B[39m\u001B[34;01minspect\u001B[39;00m\n\u001B[32m      5\u001B[39m \u001B[38;5;28;01mimport\u001B[39;00m\u001B[38;5;250m \u001B[39m\u001B[34;01mitertools\u001B[39;00m\n",
      "\u001B[36mFile \u001B[39m\u001B[32m~/anaconda3/envs/osmnx-examples/lib/python3.13/site-packages/networkx/utils/backends.py:967\u001B[39m, in \u001B[36m_dispatchable.__call__\u001B[39m\u001B[34m(self, backend, *args, **kwargs)\u001B[39m\n\u001B[32m    965\u001B[39m     \u001B[38;5;28;01mif\u001B[39;00m backend \u001B[38;5;129;01mis\u001B[39;00m \u001B[38;5;129;01mnot\u001B[39;00m \u001B[38;5;28;01mNone\u001B[39;00m \u001B[38;5;129;01mand\u001B[39;00m backend != \u001B[33m\"\u001B[39m\u001B[33mnetworkx\u001B[39m\u001B[33m\"\u001B[39m:\n\u001B[32m    966\u001B[39m         \u001B[38;5;28;01mraise\u001B[39;00m \u001B[38;5;167;01mImportError\u001B[39;00m(\u001B[33mf\u001B[39m\u001B[33m\"\u001B[39m\u001B[33m'\u001B[39m\u001B[38;5;132;01m{\u001B[39;00mbackend\u001B[38;5;132;01m}\u001B[39;00m\u001B[33m'\u001B[39m\u001B[33m backend is not installed\u001B[39m\u001B[33m\"\u001B[39m)\n\u001B[32m--> \u001B[39m\u001B[32m967\u001B[39m     \u001B[38;5;28;01mreturn\u001B[39;00m \u001B[38;5;28;43mself\u001B[39;49m\u001B[43m.\u001B[49m\u001B[43morig_func\u001B[49m\u001B[43m(\u001B[49m\u001B[43m*\u001B[49m\u001B[43margs\u001B[49m\u001B[43m,\u001B[49m\u001B[43m \u001B[49m\u001B[43m*\u001B[49m\u001B[43m*\u001B[49m\u001B[43mkwargs\u001B[49m\u001B[43m)\u001B[49m\n\u001B[32m    969\u001B[39m \u001B[38;5;66;03m# Use `backend_name` in this function instead of `backend`.\u001B[39;00m\n\u001B[32m    970\u001B[39m \u001B[38;5;66;03m# This is purely for aesthetics and to make it easier to search for this\u001B[39;00m\n\u001B[32m    971\u001B[39m \u001B[38;5;66;03m# variable since \"backend\" is used in many comments and log/error messages.\u001B[39;00m\n\u001B[32m    972\u001B[39m backend_name = backend\n",
      "\u001B[36mFile \u001B[39m\u001B[32m~/anaconda3/envs/osmnx-examples/lib/python3.13/site-packages/networkx/algorithms/shortest_paths/generic.py:185\u001B[39m, in \u001B[36mshortest_path\u001B[39m\u001B[34m(G, source, target, weight, method)\u001B[39m\n\u001B[32m    183\u001B[39m     paths = nx.bidirectional_shortest_path(G, source, target)\n\u001B[32m    184\u001B[39m \u001B[38;5;28;01melif\u001B[39;00m method == \u001B[33m\"\u001B[39m\u001B[33mdijkstra\u001B[39m\u001B[33m\"\u001B[39m:\n\u001B[32m--> \u001B[39m\u001B[32m185\u001B[39m     _, paths = \u001B[43mnx\u001B[49m\u001B[43m.\u001B[49m\u001B[43mbidirectional_dijkstra\u001B[49m\u001B[43m(\u001B[49m\u001B[43mG\u001B[49m\u001B[43m,\u001B[49m\u001B[43m \u001B[49m\u001B[43msource\u001B[49m\u001B[43m,\u001B[49m\u001B[43m \u001B[49m\u001B[43mtarget\u001B[49m\u001B[43m,\u001B[49m\u001B[43m \u001B[49m\u001B[43mweight\u001B[49m\u001B[43m)\u001B[49m\n\u001B[32m    186\u001B[39m \u001B[38;5;28;01melse\u001B[39;00m:  \u001B[38;5;66;03m# method == 'bellman-ford':\u001B[39;00m\n\u001B[32m    187\u001B[39m     paths = nx.bellman_ford_path(G, source, target, weight)\n",
      "\u001B[36mFile \u001B[39m\u001B[32m~/anaconda3/envs/osmnx-examples/lib/python3.13/site-packages/networkx/utils/decorators.py:788\u001B[39m, in \u001B[36margmap.__call__.<locals>.func\u001B[39m\u001B[34m(_argmap__wrapper, *args, **kwargs)\u001B[39m\n\u001B[32m    787\u001B[39m \u001B[38;5;28;01mdef\u001B[39;00m\u001B[38;5;250m \u001B[39m\u001B[34mfunc\u001B[39m(*args, __wrapper=\u001B[38;5;28;01mNone\u001B[39;00m, **kwargs):\n\u001B[32m--> \u001B[39m\u001B[32m788\u001B[39m     \u001B[38;5;28;01mreturn\u001B[39;00m \u001B[43margmap\u001B[49m\u001B[43m.\u001B[49m\u001B[43m_lazy_compile\u001B[49m\u001B[43m(\u001B[49m\u001B[43m__wrapper\u001B[49m\u001B[43m)\u001B[49m\u001B[43m(\u001B[49m\u001B[43m*\u001B[49m\u001B[43margs\u001B[49m\u001B[43m,\u001B[49m\u001B[43m \u001B[49m\u001B[43m*\u001B[49m\u001B[43m*\u001B[49m\u001B[43mkwargs\u001B[49m\u001B[43m)\u001B[49m\n",
      "\u001B[36mFile \u001B[39m\u001B[32m<class 'networkx.utils.decorators.argmap'> compilation 30:3\u001B[39m, in \u001B[36margmap_bidirectional_dijkstra_27\u001B[39m\u001B[34m(G, source, target, weight, backend, **backend_kwargs)\u001B[39m\n\u001B[32m      1\u001B[39m \u001B[38;5;28;01mimport\u001B[39;00m\u001B[38;5;250m \u001B[39m\u001B[34;01mbz2\u001B[39;00m\n\u001B[32m      2\u001B[39m \u001B[38;5;28;01mimport\u001B[39;00m\u001B[38;5;250m \u001B[39m\u001B[34;01mcollections\u001B[39;00m\n\u001B[32m----> \u001B[39m\u001B[32m3\u001B[39m \u001B[38;5;28;01mimport\u001B[39;00m\u001B[38;5;250m \u001B[39m\u001B[34;01mgzip\u001B[39;00m\n\u001B[32m      4\u001B[39m \u001B[38;5;28;01mimport\u001B[39;00m\u001B[38;5;250m \u001B[39m\u001B[34;01minspect\u001B[39;00m\n\u001B[32m      5\u001B[39m \u001B[38;5;28;01mimport\u001B[39;00m\u001B[38;5;250m \u001B[39m\u001B[34;01mitertools\u001B[39;00m\n",
      "\u001B[36mFile \u001B[39m\u001B[32m~/anaconda3/envs/osmnx-examples/lib/python3.13/site-packages/networkx/utils/backends.py:967\u001B[39m, in \u001B[36m_dispatchable.__call__\u001B[39m\u001B[34m(self, backend, *args, **kwargs)\u001B[39m\n\u001B[32m    965\u001B[39m     \u001B[38;5;28;01mif\u001B[39;00m backend \u001B[38;5;129;01mis\u001B[39;00m \u001B[38;5;129;01mnot\u001B[39;00m \u001B[38;5;28;01mNone\u001B[39;00m \u001B[38;5;129;01mand\u001B[39;00m backend != \u001B[33m\"\u001B[39m\u001B[33mnetworkx\u001B[39m\u001B[33m\"\u001B[39m:\n\u001B[32m    966\u001B[39m         \u001B[38;5;28;01mraise\u001B[39;00m \u001B[38;5;167;01mImportError\u001B[39;00m(\u001B[33mf\u001B[39m\u001B[33m\"\u001B[39m\u001B[33m'\u001B[39m\u001B[38;5;132;01m{\u001B[39;00mbackend\u001B[38;5;132;01m}\u001B[39;00m\u001B[33m'\u001B[39m\u001B[33m backend is not installed\u001B[39m\u001B[33m\"\u001B[39m)\n\u001B[32m--> \u001B[39m\u001B[32m967\u001B[39m     \u001B[38;5;28;01mreturn\u001B[39;00m \u001B[38;5;28;43mself\u001B[39;49m\u001B[43m.\u001B[49m\u001B[43morig_func\u001B[49m\u001B[43m(\u001B[49m\u001B[43m*\u001B[49m\u001B[43margs\u001B[49m\u001B[43m,\u001B[49m\u001B[43m \u001B[49m\u001B[43m*\u001B[49m\u001B[43m*\u001B[49m\u001B[43mkwargs\u001B[49m\u001B[43m)\u001B[49m\n\u001B[32m    969\u001B[39m \u001B[38;5;66;03m# Use `backend_name` in this function instead of `backend`.\u001B[39;00m\n\u001B[32m    970\u001B[39m \u001B[38;5;66;03m# This is purely for aesthetics and to make it easier to search for this\u001B[39;00m\n\u001B[32m    971\u001B[39m \u001B[38;5;66;03m# variable since \"backend\" is used in many comments and log/error messages.\u001B[39;00m\n\u001B[32m    972\u001B[39m backend_name = backend\n",
      "\u001B[36mFile \u001B[39m\u001B[32m~/anaconda3/envs/osmnx-examples/lib/python3.13/site-packages/networkx/algorithms/shortest_paths/weighted.py:2437\u001B[39m, in \u001B[36mbidirectional_dijkstra\u001B[39m\u001B[34m(G, source, target, weight)\u001B[39m\n\u001B[32m   2435\u001B[39m                     revpath.reverse()\n\u001B[32m   2436\u001B[39m                     finalpath = paths[\u001B[32m0\u001B[39m][w] + revpath[\u001B[32m1\u001B[39m:]\n\u001B[32m-> \u001B[39m\u001B[32m2437\u001B[39m \u001B[38;5;28;01mraise\u001B[39;00m nx.NetworkXNoPath(\u001B[33mf\u001B[39m\u001B[33m\"\u001B[39m\u001B[33mNo path between \u001B[39m\u001B[38;5;132;01m{\u001B[39;00msource\u001B[38;5;132;01m}\u001B[39;00m\u001B[33m and \u001B[39m\u001B[38;5;132;01m{\u001B[39;00mtarget\u001B[38;5;132;01m}\u001B[39;00m\u001B[33m.\u001B[39m\u001B[33m\"\u001B[39m)\n",
      "\u001B[31mNetworkXNoPath\u001B[39m: No path between 267538595 and 495649054."
     ]
    }
   ],
   "execution_count": 5
  },
  {
   "cell_type": "code",
   "id": "90028738-c97e-433c-a836-e5aee235892c",
   "metadata": {
    "ExecuteTime": {
     "end_time": "2025-05-04T15:12:20.533201Z",
     "start_time": "2025-05-04T15:12:19.829070Z"
    }
   },
   "source": [
    "ox.plot_graph(G, figsize=(16, 16), save=True, filepath='./input_data/map.png', dpi=600, node_color='g', edge_color='r', node_size=65)"
   ],
   "outputs": [
    {
     "data": {
      "text/plain": [
       "<Figure size 1600x1600 with 1 Axes>"
      ],
      "image/png": "[encoded data removed]"
     },
     "metadata": {},
     "output_type": "display_data"
    },
    {
     "data": {
      "text/plain": [
       "(<Figure size 1600x1600 with 1 Axes>, <Axes: >)"
      ]
     },
     "execution_count": 6,
     "metadata": {},
     "output_type": "execute_result"
    }
   ],
   "execution_count": 6
  },
  {
   "cell_type": "code",
   "execution_count": 6,
   "id": "337a9412-7769-45b9-bf54-82287dabc96d",
   "metadata": {},
   "outputs": [
    {
     "data": {
      "text/plain": [
       "{'osmid': 24345907,\n",
       " 'highway': 'residential',\n",
       " 'lanes': '2',\n",
       " 'maxspeed': '50',\n",
       " 'name': 'Miechowska',\n",
       " 'oneway': False,\n",
       " 'reversed': True,\n",
       " 'length': np.float64(22.119597424091033),\n",
       " 'geometry': <LINESTRING (19.914 50.068, 19.914 50.068, 19.914 50.067)>}"
      ]
     },
     "execution_count": 6,
     "metadata": {},
     "output_type": "execute_result"
    }
   ],
   "source": [
    "G.adj[236160006][264345061][0]"
   ]
  },
  {
   "cell_type": "code",
   "execution_count": 7,
   "id": "5869634f-563c-41da-b33e-81b0728ab50e",
   "metadata": {},
   "outputs": [
    {
     "data": {
      "text/plain": [
       "{'osmid': 24345907,\n",
       " 'highway': 'residential',\n",
       " 'lanes': '2',\n",
       " 'maxspeed': '50',\n",
       " 'name': 'Miechowska',\n",
       " 'oneway': False,\n",
       " 'reversed': True,\n",
       " 'length': np.float64(22.119597424091033),\n",
       " 'geometry': <LINESTRING (19.914 50.068, 19.914 50.068, 19.914 50.067)>}"
      ]
     },
     "execution_count": 7,
     "metadata": {},
     "output_type": "execute_result"
    }
   ],
   "source": [
    "G.adj[236160006][264345061][0]"
   ]
  },
  {
   "cell_type": "code",
   "execution_count": 8,
   "id": "099ae56e-b16d-489b-979f-7b03332df407",
   "metadata": {},
   "outputs": [
    {
     "data": {
      "text/plain": [
       "{'y': 50.0676446, 'x': 19.9144835, 'street_count': 3}"
      ]
     },
     "execution_count": 8,
     "metadata": {},
     "output_type": "execute_result"
    }
   ],
   "source": [
    "G.nodes[236160006]"
   ]
  },
  {
   "cell_type": "code",
   "execution_count": 9,
   "id": "88f9b7e3-71f3-492e-a646-030170230ec6",
   "metadata": {},
   "outputs": [
    {
     "name": "stdout",
     "output_type": "stream",
     "text": [
      "495649040\n",
      "495649054\n",
      "[(236160006, 264345061, 0), (236160006, 236306981, 0), (236160006, 236160072, 0), (236160072, 267538595, 0), (236160072, 273461469, 0), (236160072, 236160006, 0), (236306981, 236160006, 0), (236306981, 281474610, 0), (264345061, 236160006, 0), (267538595, 273461466, 0), (267538595, 236160072, 0), (273461469, 273461466, 0), (273461469, 236160072, 0), (281474610, 236306981, 0), (281474610, 281474691, 0), (281474691, 281474610, 0), (281474691, 3044475380, 0), (281474691, 3376781934, 0), (495649040, 495649052, 0), (495649040, 273461469, 0), (495649052, 495649054, 0), (495649052, 495649040, 0), (495649054, 495649052, 0), (3044475380, 281474691, 0), (3376781933, 3376781934, 0), (3376781934, 3376781933, 0), (3376781934, 281474691, 0)]\n",
      "{0: {'osmid': 178067341, 'highway': 'residential', 'lanes': '2', 'maxspeed': '50', 'name': 'Urzędnicza', 'oneway': False, 'reversed': False, 'length': np.float64(17.58251982326308), 'geometry': <LINESTRING (19.918 50.068, 19.918 50.068, 19.918 50.068)>}}\n"
     ]
    },
    {
     "data": {
      "text/plain": [
       "{236160006,\n",
       " 236160072,\n",
       " 236306981,\n",
       " 264345061,\n",
       " 267538595,\n",
       " 273461466,\n",
       " 273461469,\n",
       " 281474610,\n",
       " 281474691,\n",
       " 495649040,\n",
       " 495649052,\n",
       " 495649054,\n",
       " 3044475380,\n",
       " 3376781933,\n",
       " 3376781934}"
      ]
     },
     "execution_count": 9,
     "metadata": {},
     "output_type": "execute_result"
    }
   ],
   "source": [
    "for i in set(G.successors(495649052)) | set(G.predecessors(495649052)):\n",
    "    print(i)\n",
    "\n",
    "print(G.edges)\n",
    "\n",
    "print(G.adj[273461469][236160072])\n",
    "\n",
    "(set(map(lambda x: x[1], list(nx.bfs_edges(G, 273461469)))) | set([273461469])) == set(G.nodes)\n",
    "\n",
    "set(G.nodes)\n"
   ]
  },
  {
   "cell_type": "code",
   "execution_count": 10,
   "id": "0b4e1510-d748-41ea-b0d8-011d80b4252f",
   "metadata": {},
   "outputs": [
    {
     "data": {
      "text/plain": [
       "(236160006,\n",
       " 236160072,\n",
       " 236306981,\n",
       " 264345061,\n",
       " 267538595,\n",
       " 273461466,\n",
       " 273461469,\n",
       " 281474610,\n",
       " 281474691,\n",
       " 495649040,\n",
       " 495649052,\n",
       " 495649054,\n",
       " 3044475380,\n",
       " 3376781933,\n",
       " 3376781934)"
      ]
     },
     "execution_count": 10,
     "metadata": {},
     "output_type": "execute_result"
    }
   ],
   "source": [
    "tuple(G.nodes)"
   ]
  },
  {
   "cell_type": "code",
   "execution_count": 11,
   "id": "3aeb289d-45cc-4e10-894a-047892809233",
   "metadata": {},
   "outputs": [],
   "source": [
    "T = nx.bfs_tree(G, 236160006)"
   ]
  },
  {
   "cell_type": "code",
   "execution_count": 12,
   "id": "ee955d4e-5617-4a92-8f98-f66759c950c5",
   "metadata": {},
   "outputs": [
    {
     "data": {
      "text/plain": [
       "11"
      ]
     },
     "execution_count": 12,
     "metadata": {},
     "output_type": "execute_result"
    }
   ],
   "source": [
    "len(T.edges())"
   ]
  },
  {
   "cell_type": "code",
   "execution_count": 13,
   "id": "eb12b1ed-306e-40ba-9adc-fc0c9e113db2",
   "metadata": {},
   "outputs": [
    {
     "data": {
      "text/plain": [
       "12"
      ]
     },
     "execution_count": 13,
     "metadata": {},
     "output_type": "execute_result"
    }
   ],
   "source": [
    "len(T.nodes())"
   ]
  },
  {
   "cell_type": "code",
   "execution_count": 14,
   "id": "44422be5-c15e-405a-97e9-258765e54eeb",
   "metadata": {},
   "outputs": [
    {
     "data": {
      "text/plain": [
       "{'osmid': 24345907,\n",
       " 'highway': 'residential',\n",
       " 'lanes': '2',\n",
       " 'maxspeed': '50',\n",
       " 'name': 'Miechowska',\n",
       " 'oneway': False,\n",
       " 'reversed': True,\n",
       " 'length': np.float64(22.119597424091033),\n",
       " 'geometry': <LINESTRING (19.914 50.068, 19.914 50.068, 19.914 50.067)>}"
      ]
     },
     "execution_count": 14,
     "metadata": {},
     "output_type": "execute_result"
    }
   ],
   "source": [
    "G.adj[236160006][264345061][0]"
   ]
  },
  {
   "cell_type": "code",
   "execution_count": 15,
   "id": "f067c3cd-7ab7-4470-8f53-65fef9802026",
   "metadata": {},
   "outputs": [
    {
     "data": {
      "text/plain": [
       "np.float64(1080.5924327610455)"
      ]
     },
     "execution_count": 15,
     "metadata": {},
     "output_type": "execute_result"
    }
   ],
   "source": [
    "sum(map(lambda x: G.adj[x[0]][x[1]][0]['length'], T.edges()))"
   ]
  },
  {
   "cell_type": "code",
   "execution_count": null,
   "id": "42b8178c-bad6-4665-91cb-18f968d21827",
   "metadata": {},
   "outputs": [],
   "source": []
  },
  {
   "cell_type": "code",
   "execution_count": 16,
   "id": "7dc3ff3b",
   "metadata": {},
   "outputs": [
    {
     "name": "stdout",
     "output_type": "stream",
     "text": [
      "cannot find path between 3376781933 and 495649052\n",
      "cannot find path between 273461466 and 273461469\n",
      "{'id': 0, 'type': 'bus', 'start_time': 3, 'from_node': 495649052, 'to_node': 3044475380, 'path': [495649052, 495649040, 273461469, 236160072, 236160006, 236306981, 281474610, 281474691, 3044475380]}\n",
      "{'id': 1, 'type': 'motorcycle', 'start_time': 4, 'from_node': 273461469, 'to_node': 3376781933, 'path': [273461469, 236160072, 236160006, 236306981, 281474610, 281474691, 3376781934, 3376781933]}\n",
      "{'id': 2, 'type': 'motorcycle', 'start_time': 23, 'from_node': 495649054, 'to_node': 3044475380, 'path': [495649054, 495649052, 495649040, 273461469, 236160072, 236160006, 236306981, 281474610, 281474691, 3044475380]}\n",
      "{'id': 3, 'type': 'car', 'start_time': 27, 'from_node': 3376781933, 'to_node': 236306981, 'path': [3376781933, 3376781934, 281474691, 281474610, 236306981]}\n",
      "{'id': 4, 'type': 'bus', 'start_time': 34, 'from_node': 281474691, 'to_node': 264345061, 'path': [281474691, 281474610, 236306981, 236160006, 264345061]}\n",
      "{'id': 5, 'type': 'bus', 'start_time': 67, 'from_node': 281474610, 'to_node': 273461466, 'path': [281474610, 236306981, 236160006, 236160072, 273461469, 273461466]}\n",
      "{'id': 6, 'type': 'motorcycle', 'start_time': 91, 'from_node': 236306981, 'to_node': 273461469, 'path': [236306981, 236160006, 236160072, 273461469]}\n",
      "{'id': 7, 'type': 'motorcycle', 'start_time': 92, 'from_node': 273461469, 'to_node': 236306981, 'path': [273461469, 236160072, 236160006, 236306981]}\n"
     ]
    }
   ],
   "source": [
    "import random\n",
    "def get_all_node_ids(graph):\n",
    "  return list(graph.nodes)\n",
    "\n",
    "def bfs_shortest_path(graph, source, target):\n",
    "  return nx.shortest_path(graph, source=source, target=target, weight='length')\n",
    "\n",
    "node_1 = sample(list(G.nodes), 1)[0]\n",
    "node_2 = sample(list(G.nodes), 1)[0]\n",
    "# print(node_1, node_2)\n",
    "# path = bfs_shortest_path(G, node_1, node_2)\n",
    "# print(path)\n",
    "\n",
    "def generate_vehicles(start_time, end_time, probability):\n",
    "    vehicles = []\n",
    "    types = ['car', 'bus', 'truck', 'motorcycle']\n",
    "    idx = 0\n",
    "    for i in range(start_time, end_time):\n",
    "        if random.random() < probability:\n",
    "            start_node = sample(list(G.nodes), 1)[0]\n",
    "            end_node = sample(list(G.nodes), 1)[0]\n",
    "            try:\n",
    "              path = bfs_shortest_path(G, start_node, end_node)\n",
    "            except: # Path not found\n",
    "              print(f'cannot find path between {start_node} and {end_node}')\n",
    "              continue\n",
    "            \n",
    "            if not path:\n",
    "                continue\n",
    "            \n",
    "            # Randomly select a vehicle type\n",
    "            vehicle_type = random.choice(types)\n",
    "            vehicle = {\n",
    "                'id': idx,\n",
    "                'type': vehicle_type,\n",
    "                'start_time': i,\n",
    "                'from_node': start_node,\n",
    "                'to_node': end_node,\n",
    "                'path': path\n",
    "            }\n",
    "            idx += 1\n",
    "\n",
    "            vehicles.append(vehicle)\n",
    "    return vehicles\n",
    "\n",
    "vehicles = generate_vehicles(0, 100, 0.1)\n",
    "for vehicle in vehicles:\n",
    "    print(vehicle)"
   ]
  },
  {
   "metadata": {
    "ExecuteTime": {
     "end_time": "2025-05-04T15:26:11.925208Z",
     "start_time": "2025-05-04T15:26:11.922357Z"
    }
   },
   "cell_type": "code",
   "source": "G_di = nx.DiGraph(G)",
   "id": "6b7abcad404b4f07",
   "outputs": [],
   "execution_count": 11
  },
  {
   "metadata": {
    "ExecuteTime": {
     "end_time": "2025-05-04T15:26:19.919690Z",
     "start_time": "2025-05-04T15:26:19.916214Z"
    }
   },
   "cell_type": "code",
   "source": "G_di.nodes",
   "id": "be91babfbda81b2e",
   "outputs": [
    {
     "data": {
      "text/plain": [
       "NodeView((236160006, 236160072, 236306981, 264345061, 267538595, 273461466, 273461469, 281474610, 281474691, 495649040, 495649052, 495649054, 3044475380, 3376781933, 3376781934))"
      ]
     },
     "execution_count": 12,
     "metadata": {},
     "output_type": "execute_result"
    }
   ],
   "execution_count": 12
  },
  {
   "metadata": {
    "ExecuteTime": {
     "end_time": "2025-05-04T15:26:20.547063Z",
     "start_time": "2025-05-04T15:26:20.543734Z"
    }
   },
   "cell_type": "code",
   "source": "G_di.edges",
   "id": "4ee82a4bec94eb4",
   "outputs": [
    {
     "data": {
      "text/plain": [
       "OutEdgeView([(236160006, 264345061), (236160006, 236306981), (236160006, 236160072), (236160072, 267538595), (236160072, 273461469), (236160072, 236160006), (236306981, 236160006), (236306981, 281474610), (264345061, 236160006), (267538595, 273461466), (267538595, 236160072), (273461469, 273461466), (273461469, 236160072), (281474610, 236306981), (281474610, 281474691), (281474691, 281474610), (281474691, 3044475380), (281474691, 3376781934), (495649040, 495649052), (495649040, 273461469), (495649052, 495649054), (495649052, 495649040), (495649054, 495649052), (3044475380, 281474691), (3376781933, 3376781934), (3376781934, 3376781933), (3376781934, 281474691)])"
      ]
     },
     "execution_count": 13,
     "metadata": {},
     "output_type": "execute_result"
    }
   ],
   "execution_count": 13
  },
  {
   "metadata": {
    "ExecuteTime": {
     "end_time": "2025-05-04T15:26:25.836020Z",
     "start_time": "2025-05-04T15:26:25.832317Z"
    }
   },
   "cell_type": "code",
   "source": "G_di.edges[236160006, 264345061]",
   "id": "cd1c0abcc7b7c012",
   "outputs": [
    {
     "data": {
      "text/plain": [
       "{'osmid': 24345907,\n",
       " 'highway': 'residential',\n",
       " 'lanes': '2',\n",
       " 'maxspeed': '50',\n",
       " 'name': 'Miechowska',\n",
       " 'oneway': False,\n",
       " 'reversed': True,\n",
       " 'length': np.float64(22.119597424091033),\n",
       " 'geometry': <LINESTRING (19.914 50.068, 19.914 50.068, 19.914 50.067)>}"
      ]
     },
     "execution_count": 15,
     "metadata": {},
     "output_type": "execute_result"
    }
   ],
   "execution_count": 15
  },
  {
   "metadata": {
    "ExecuteTime": {
     "end_time": "2025-05-04T15:28:20.808233Z",
     "start_time": "2025-05-04T15:28:20.804373Z"
    }
   },
   "cell_type": "code",
   "source": "G_di.edges[264345061, 236160006]",
   "id": "39f92b876cc0e5d",
   "outputs": [
    {
     "data": {
      "text/plain": [
       "{'osmid': 24345907,\n",
       " 'highway': 'residential',\n",
       " 'lanes': '2',\n",
       " 'maxspeed': '50',\n",
       " 'name': 'Miechowska',\n",
       " 'oneway': False,\n",
       " 'reversed': False,\n",
       " 'length': np.float64(22.119597424091033),\n",
       " 'geometry': <LINESTRING (19.914 50.067, 19.914 50.068, 19.914 50.068)>}"
      ]
     },
     "execution_count": 16,
     "metadata": {},
     "output_type": "execute_result"
    }
   ],
   "execution_count": 16
  },
  {
   "metadata": {
    "ExecuteTime": {
     "end_time": "2025-05-04T15:35:40.263640Z",
     "start_time": "2025-05-04T15:35:40.260586Z"
    }
   },
   "cell_type": "code",
   "source": "type(G_di.edges[264345061, 236160006]['geometry'])",
   "id": "a7de1a874bd5499c",
   "outputs": [
    {
     "data": {
      "text/plain": [
       "shapely.geometry.linestring.LineString"
      ]
     },
     "execution_count": 22,
     "metadata": {},
     "output_type": "execute_result"
    }
   ],
   "execution_count": 22
  },
  {
   "metadata": {
    "ExecuteTime": {
     "end_time": "2025-05-04T15:50:34.571965Z",
     "start_time": "2025-05-04T15:50:34.558443Z"
    }
   },
   "cell_type": "code",
   "source": [
    "for edge in G_di.edges:\n",
    "    print(edge)\n",
    "    print(type(G_di.edges[*edge]['geometry']))"
   ],
   "id": "5d6b4ea4efa97730",
   "outputs": [
    {
     "name": "stdout",
     "output_type": "stream",
     "text": [
      "(236160006, 264345061)\n",
      "<class 'shapely.geometry.linestring.LineString'>\n",
      "(236160006, 236306981)\n",
      "<class 'shapely.geometry.linestring.LineString'>\n",
      "(236160006, 236160072)\n",
      "<class 'shapely.geometry.linestring.LineString'>\n",
      "(236160072, 267538595)\n",
      "<class 'shapely.geometry.linestring.LineString'>\n",
      "(236160072, 273461469)\n",
      "<class 'shapely.geometry.linestring.LineString'>\n",
      "(236160072, 236160006)\n",
      "<class 'shapely.geometry.linestring.LineString'>\n",
      "(236306981, 236160006)\n",
      "<class 'shapely.geometry.linestring.LineString'>\n",
      "(236306981, 281474610)\n",
      "<class 'shapely.geometry.linestring.LineString'>\n",
      "(264345061, 236160006)\n",
      "<class 'shapely.geometry.linestring.LineString'>\n",
      "(267538595, 273461466)\n",
      "<class 'shapely.geometry.linestring.LineString'>\n",
      "(267538595, 236160072)\n",
      "<class 'shapely.geometry.linestring.LineString'>\n",
      "(273461469, 273461466)\n",
      "<class 'shapely.geometry.linestring.LineString'>\n",
      "(273461469, 236160072)\n",
      "<class 'shapely.geometry.linestring.LineString'>\n",
      "(281474610, 236306981)\n",
      "<class 'shapely.geometry.linestring.LineString'>\n",
      "(281474610, 281474691)\n",
      "<class 'shapely.geometry.linestring.LineString'>\n",
      "(281474691, 281474610)\n",
      "<class 'shapely.geometry.linestring.LineString'>\n",
      "(281474691, 3044475380)\n",
      "<class 'shapely.geometry.linestring.LineString'>\n",
      "(281474691, 3376781934)\n",
      "<class 'shapely.geometry.linestring.LineString'>\n",
      "(495649040, 495649052)\n",
      "<class 'shapely.geometry.linestring.LineString'>\n",
      "(495649040, 273461469)\n",
      "<class 'shapely.geometry.linestring.LineString'>\n",
      "(495649052, 495649054)\n",
      "<class 'shapely.geometry.linestring.LineString'>\n",
      "(495649052, 495649040)\n",
      "<class 'shapely.geometry.linestring.LineString'>\n",
      "(495649054, 495649052)\n",
      "<class 'shapely.geometry.linestring.LineString'>\n",
      "(3044475380, 281474691)\n",
      "<class 'shapely.geometry.linestring.LineString'>\n",
      "(3376781933, 3376781934)\n"
     ]
    },
    {
     "ename": "KeyError",
     "evalue": "'geometry'",
     "output_type": "error",
     "traceback": [
      "\u001B[31m---------------------------------------------------------------------------\u001B[39m",
      "\u001B[31mKeyError\u001B[39m                                  Traceback (most recent call last)",
      "\u001B[36mCell\u001B[39m\u001B[36m \u001B[39m\u001B[32mIn[27]\u001B[39m\u001B[32m, line 3\u001B[39m\n\u001B[32m      1\u001B[39m \u001B[38;5;28;01mfor\u001B[39;00m edge \u001B[38;5;129;01min\u001B[39;00m G_di.edges:\n\u001B[32m      2\u001B[39m     \u001B[38;5;28mprint\u001B[39m(edge)\n\u001B[32m----> \u001B[39m\u001B[32m3\u001B[39m     \u001B[38;5;28mprint\u001B[39m(\u001B[38;5;28mtype\u001B[39m(\u001B[43mG_di\u001B[49m\u001B[43m.\u001B[49m\u001B[43medges\u001B[49m\u001B[43m[\u001B[49m\u001B[43m*\u001B[49m\u001B[43medge\u001B[49m\u001B[43m]\u001B[49m\u001B[43m[\u001B[49m\u001B[33;43m'\u001B[39;49m\u001B[33;43mgeometry\u001B[39;49m\u001B[33;43m'\u001B[39;49m\u001B[43m]\u001B[49m))\n",
      "\u001B[31mKeyError\u001B[39m: 'geometry'"
     ]
    }
   ],
   "execution_count": 27
  },
  {
   "metadata": {
    "ExecuteTime": {
     "end_time": "2025-05-04T15:50:55.421729Z",
     "start_time": "2025-05-04T15:50:55.417043Z"
    }
   },
   "cell_type": "code",
   "source": "G_di.edges[(3376781933, 3376781934)]",
   "id": "265e093c7abc8c00",
   "outputs": [
    {
     "data": {
      "text/plain": [
       "{'osmid': 330685750,\n",
       " 'highway': 'residential',\n",
       " 'lanes': '1',\n",
       " 'oneway': False,\n",
       " 'reversed': True,\n",
       " 'length': np.float64(10.114138764229109)}"
      ]
     },
     "execution_count": 28,
     "metadata": {},
     "output_type": "execute_result"
    }
   ],
   "execution_count": 28
  },
  {
   "metadata": {
    "ExecuteTime": {
     "end_time": "2025-05-04T15:54:33.301879Z",
     "start_time": "2025-05-04T15:54:33.298282Z"
    }
   },
   "cell_type": "code",
   "source": "G_di.nodes[3376781933]",
   "id": "292665e80eb87530",
   "outputs": [
    {
     "data": {
      "text/plain": [
       "{'y': 50.0686155, 'x': 19.9159768, 'street_count': 1}"
      ]
     },
     "execution_count": 30,
     "metadata": {},
     "output_type": "execute_result"
    }
   ],
   "execution_count": 30
  },
  {
   "metadata": {
    "ExecuteTime": {
     "end_time": "2025-05-04T15:54:33.726404Z",
     "start_time": "2025-05-04T15:54:33.722959Z"
    }
   },
   "cell_type": "code",
   "source": "G_di.nodes[3376781934]",
   "id": "fe0f602d5b6db9ce",
   "outputs": [
    {
     "data": {
      "text/plain": [
       "{'y': 50.0686232, 'x': 19.9158356, 'street_count': 3}"
      ]
     },
     "execution_count": 31,
     "metadata": {},
     "output_type": "execute_result"
    }
   ],
   "execution_count": 31
  },
  {
   "metadata": {},
   "cell_type": "code",
   "outputs": [],
   "execution_count": null,
   "source": "from shapely import LineString",
   "id": "aeb31a011ba9ed94"
  },
  {
   "metadata": {
    "ExecuteTime": {
     "end_time": "2025-05-04T15:55:42.527983Z",
     "start_time": "2025-05-04T15:55:42.523666Z"
    }
   },
   "cell_type": "code",
   "source": [
    "from shapely import LineString\n",
    "a = LineString([[0, 0], [1, 0], [1, 1]])\n",
    "a"
   ],
   "id": "a2c39f8e3a7f5356",
   "outputs": [
    {
     "data": {
      "text/plain": [
       "<LINESTRING (0 0, 1 0, 1 1)>"
      ],
      "image/svg+xml": "<svg xmlns=\"http://www.w3.org/2000/svg\" xmlns:xlink=\"http://www.w3.org/1999/xlink\" width=\"100.0\" height=\"100.0\" viewBox=\"-0.04 -0.04 1.08 1.08\" preserveAspectRatio=\"xMinYMin meet\"><g transform=\"matrix(1,0,0,-1,0,1.0)\"><polyline fill=\"none\" stroke=\"#66cc99\" stroke-width=\"0.0216\" points=\"0.0,0.0 1.0,0.0 1.0,1.0\" opacity=\"0.8\" /></g></svg>"
     },
     "execution_count": 34,
     "metadata": {},
     "output_type": "execute_result"
    }
   ],
   "execution_count": 34
  },
  {
   "metadata": {},
   "cell_type": "code",
   "outputs": [],
   "execution_count": null,
   "source": "",
   "id": "3a6d333ce1ce3029"
  }
 ],
 "metadata": {
  "kernelspec": {
   "display_name": "osmnx-examples",
   "language": "python",
   "name": "osmnx-examples"
  },
  "language_info": {
   "codemirror_mode": {
    "name": "ipython",
    "version": 3
   },
   "file_extension": ".py",
   "mimetype": "text/x-python",
   "name": "python",
   "nbconvert_exporter": "python",
   "pygments_lexer": "ipython3",
   "version": "3.12.1"
  }
 },
 "nbformat": 4,
 "nbformat_minor": 5
}
