{
 "cells": [
  {
   "cell_type": "code",
   "execution_count": 1,
   "id": "8517c762-ae40-4b57-9299-769a1da56bc2",
   "metadata": {},
   "outputs": [],
   "source": [
    "import osmnx as ox\n",
    "import networkx as nx"
   ]
  },
  {
   "metadata": {},
   "cell_type": "code",
   "outputs": [],
   "execution_count": null,
   "source": "ox.settings.use_cache = False",
   "id": "e74da95ddc68ea53"
  },
  {
   "cell_type": "code",
   "execution_count": 2,
   "id": "ffdd6683-c00b-466e-a4d3-87d745f1c5f6",
   "metadata": {},
   "outputs": [
    {
     "data": {
      "text/plain": [
       "<networkx.classes.multidigraph.MultiDiGraph at 0x183f7ba9c70>"
      ]
     },
     "execution_count": 2,
     "metadata": {},
     "output_type": "execute_result"
    }
   ],
   "source": [
    "G = ox.graph.graph_from_bbox((19.912119, 50.066637, 19.921871, 50.069047), network_type='drive')\n",
    "G"
   ]
  },
  {
   "cell_type": "code",
   "execution_count": 3,
   "id": "1b710594",
   "metadata": {},
   "outputs": [
    {
     "name": "stdout",
     "output_type": "stream",
     "text": [
      "MultiDiGraph with 15 nodes and 27 edges\n",
      "15\n",
      "27\n",
      "(236160006, 264345061, {'osmid': 24345907, 'highway': 'residential', 'lanes': '2', 'maxspeed': '50', 'name': 'Miechowska', 'oneway': False, 'reversed': True, 'length': np.float64(22.119597424091033), 'geometry': <LINESTRING (19.914 50.068, 19.914 50.068, 19.914 50.067)>})\n",
      "(236160006, 236306981, {'osmid': 24559263, 'highway': 'secondary', 'lanes': '3', 'maxspeed': '50', 'name': 'Nawojki', 'oneway': False, 'reversed': False, 'length': np.float64(70.5049494600211), 'geometry': <LINESTRING (19.914 50.068, 19.914 50.068, 19.914 50.068)>})\n",
      "(236160006, 236160072, {'osmid': [538978472, 840207982, 840207983, 440915828, 384158490], 'highway': 'secondary', 'lanes': '3', 'maxspeed': '50', 'name': 'Czarnowiejska', 'oneway': False, 'reversed': [False, True], 'length': np.float64(264.389154709604), 'geometry': <LINESTRING (19.914 50.068, 19.915 50.068, 19.915 50.068, 19.915 50.068, 19....>})\n",
      "(236160072, 267538595, {'osmid': 155221402, 'highway': 'secondary', 'lanes': '3', 'maxspeed': '50', 'name': 'Czarnowiejska', 'oneway': False, 'reversed': False, 'length': np.float64(170.13440517414654), 'geometry': <LINESTRING (19.918 50.068, 19.919 50.067, 19.919 50.067, 19.919 50.067, 19....>})\n",
      "(236160072, 273461469, {'osmid': 178067341, 'highway': 'residential', 'lanes': '2', 'maxspeed': '50', 'name': 'Urzędnicza', 'oneway': False, 'reversed': True, 'length': np.float64(17.58251982326308), 'geometry': <LINESTRING (19.918 50.068, 19.918 50.068, 19.918 50.068)>})\n",
      "(236160072, 236160006, {'osmid': [538978472, 840207982, 840207983, 440915828, 384158490], 'highway': 'secondary', 'lanes': '3', 'maxspeed': '50', 'name': 'Czarnowiejska', 'oneway': False, 'reversed': [False, True], 'length': np.float64(264.38915470960393), 'geometry': <LINESTRING (19.918 50.068, 19.918 50.068, 19.918 50.068, 19.918 50.068, 19....>})\n",
      "(236306981, 236160006, {'osmid': 24559263, 'highway': 'secondary', 'lanes': '3', 'maxspeed': '50', 'name': 'Nawojki', 'oneway': False, 'reversed': True, 'length': np.float64(70.5049494600211), 'geometry': <LINESTRING (19.914 50.068, 19.914 50.068, 19.914 50.068)>})\n",
      "(236306981, 281474610, {'osmid': 713092110, 'highway': 'tertiary', 'lanes': '3', 'maxspeed': '50', 'name': 'Aleja Kijowska', 'oneway': False, 'reversed': False, 'length': np.float64(62.130973879563335), 'geometry': <LINESTRING (19.914 50.068, 19.914 50.068, 19.914 50.068, 19.914 50.068, 19....>})\n",
      "(264345061, 236160006, {'osmid': 24345907, 'highway': 'residential', 'lanes': '2', 'maxspeed': '50', 'name': 'Miechowska', 'oneway': False, 'reversed': False, 'length': np.float64(22.119597424091033), 'geometry': <LINESTRING (19.914 50.067, 19.914 50.068, 19.914 50.068)>})\n",
      "(267538595, 273461466, {'osmid': [24611315, 288028119], 'highway': 'residential', 'maxspeed': '30', 'name': 'Stanisława Konarskiego', 'oneway': True, 'reversed': False, 'length': np.float64(158.64554438502202), 'lanes': '1', 'geometry': <LINESTRING (19.92 50.067, 19.92 50.067, 19.921 50.068, 19.921 50.068)>})\n",
      "(267538595, 236160072, {'osmid': 155221402, 'highway': 'secondary', 'lanes': '3', 'maxspeed': '50', 'name': 'Czarnowiejska', 'oneway': False, 'reversed': True, 'length': np.float64(170.13440517414654), 'geometry': <LINESTRING (19.92 50.067, 19.919 50.067, 19.919 50.067, 19.919 50.067, 19.9...>})\n",
      "(273461469, 273461466, {'osmid': 25116630, 'highway': 'residential', 'maxspeed': '30', 'name': 'Fryderyka Chopina', 'oneway': True, 'reversed': False, 'length': np.float64(201.96752216391994), 'geometry': <LINESTRING (19.918 50.068, 19.918 50.068, 19.92 50.068, 19.921 50.068, 19.9...>})\n",
      "(273461469, 236160072, {'osmid': 178067341, 'highway': 'residential', 'lanes': '2', 'maxspeed': '50', 'name': 'Urzędnicza', 'oneway': False, 'reversed': False, 'length': np.float64(17.58251982326308), 'geometry': <LINESTRING (19.918 50.068, 19.918 50.068, 19.918 50.068)>})\n",
      "(281474610, 236306981, {'osmid': 713092110, 'highway': 'tertiary', 'lanes': '3', 'maxspeed': '50', 'name': 'Aleja Kijowska', 'oneway': False, 'reversed': True, 'length': np.float64(62.13097387956333), 'geometry': <LINESTRING (19.914 50.069, 19.914 50.068, 19.914 50.068, 19.914 50.068, 19....>})\n",
      "(281474610, 281474691, {'osmid': [1155625064, 25805358], 'highway': 'residential', 'lanes': '2', 'maxspeed': '30', 'name': 'Elbląska', 'oneway': False, 'reversed': True, 'length': np.float64(116.91434877877035), 'geometry': <LINESTRING (19.914 50.069, 19.914 50.068, 19.915 50.068, 19.915 50.069, 19....>})\n",
      "(281474691, 281474610, {'osmid': [1155625064, 25805358], 'highway': 'residential', 'maxspeed': '30', 'name': 'Elbląska', 'oneway': False, 'reversed': False, 'length': np.float64(116.91434877877035), 'lanes': '2', 'geometry': <LINESTRING (19.915 50.069, 19.915 50.069, 19.915 50.069, 19.915 50.069, 19....>})\n",
      "(281474691, 3044475380, {'osmid': 300358971, 'highway': 'residential', 'name': 'Chocimska', 'oneway': False, 'reversed': False, 'length': np.float64(150.68126537200607), 'geometry': <LINESTRING (19.915 50.069, 19.915 50.069, 19.915 50.068, 19.915 50.068, 19....>})\n",
      "(281474691, 3376781934, {'osmid': 330685750, 'highway': 'residential', 'lanes': '1', 'oneway': False, 'reversed': False, 'length': np.float64(37.37553499032879), 'geometry': <LINESTRING (19.915 50.069, 19.915 50.069, 19.916 50.069)>})\n",
      "(495649040, 495649052, {'osmid': 40779705, 'highway': 'residential', 'lanes': '2', 'maxspeed': '30', 'name': 'Ogrodniczek', 'oneway': False, 'reversed': True, 'length': np.float64(71.86869400479833), 'geometry': <LINESTRING (19.918 50.069, 19.918 50.069, 19.917 50.069, 19.917 50.069)>})\n",
      "(495649040, 273461469, {'osmid': 447662460, 'highway': 'residential', 'maxspeed': '30', 'name': 'Urzędnicza', 'oneway': True, 'reversed': False, 'length': np.float64(135.21277684557657), 'geometry': <LINESTRING (19.918 50.069, 19.918 50.068, 19.918 50.068)>})\n",
      "(495649052, 495649054, {'osmid': 40779666, 'highway': 'residential', 'maxspeed': '30', 'name': 'Spokojna', 'oneway': False, 'reversed': False, 'length': np.float64(124.95841262149663), 'geometry': <LINESTRING (19.917 50.069, 19.917 50.068, 19.917 50.068)>})\n",
      "(495649052, 495649040, {'osmid': 40779705, 'highway': 'residential', 'lanes': '2', 'maxspeed': '30', 'name': 'Ogrodniczek', 'oneway': False, 'reversed': False, 'length': np.float64(71.86869400479834), 'geometry': <LINESTRING (19.917 50.069, 19.917 50.069, 19.918 50.069, 19.918 50.069)>})\n",
      "(495649054, 495649052, {'osmid': 40779666, 'highway': 'residential', 'maxspeed': '30', 'name': 'Spokojna', 'oneway': False, 'reversed': True, 'length': np.float64(124.95841262149663), 'geometry': <LINESTRING (19.917 50.068, 19.917 50.068, 19.917 50.069)>})\n",
      "(3044475380, 281474691, {'osmid': 300358971, 'highway': 'residential', 'name': 'Chocimska', 'oneway': False, 'reversed': True, 'length': np.float64(150.68126537200607), 'geometry': <LINESTRING (19.916 50.068, 19.915 50.068, 19.915 50.068, 19.915 50.068, 19....>})\n",
      "(3376781933, 3376781934, {'osmid': 330685750, 'highway': 'residential', 'lanes': '1', 'oneway': False, 'reversed': True, 'length': np.float64(10.114138764229109)})\n",
      "(3376781934, 3376781933, {'osmid': 330685750, 'highway': 'residential', 'lanes': '1', 'oneway': False, 'reversed': False, 'length': np.float64(10.114138764229109)})\n",
      "(3376781934, 281474691, {'osmid': 330685750, 'highway': 'residential', 'lanes': '1', 'oneway': False, 'reversed': True, 'length': np.float64(37.37553499032879), 'geometry': <LINESTRING (19.916 50.069, 19.915 50.069, 19.915 50.069)>})\n",
      "(236160006, {'y': 50.0676446, 'x': 19.9144835, 'street_count': 3})\n",
      "(236160072, {'y': 50.0675762, 'x': 19.918162, 'highway': 'traffic_signals', 'street_count': 3})\n",
      "(236306981, {'y': 50.0679708, 'x': 19.9136371, 'highway': 'traffic_signals', 'street_count': 3})\n",
      "(264345061, {'y': 50.0674527, 'x': 19.9144019, 'street_count': 3})\n",
      "(267538595, {'y': 50.0669962, 'x': 19.9203677, 'street_count': 4})\n",
      "(273461466, {'y': 50.0683923, 'x': 19.9208255, 'street_count': 4})\n",
      "(273461469, {'y': 50.0677319, 'x': 19.9182035, 'street_count': 3})\n",
      "(281474610, {'y': 50.0685162, 'x': 19.913807, 'street_count': 3})\n",
      "(281474691, {'y': 50.0686581, 'x': 19.9153155, 'street_count': 4})\n",
      "(495649040, {'y': 50.0689448, 'x': 19.9183386, 'street_count': 3})\n",
      "(495649052, {'y': 50.0690013, 'x': 19.9173355, 'street_count': 3})\n",
      "(495649054, {'y': 50.067881, 'x': 19.9171979, 'street_count': 1})\n",
      "(3044475380, {'y': 50.0678706, 'x': 19.9160781, 'street_count': 1})\n",
      "(3376781933, {'y': 50.0686155, 'x': 19.9159768, 'street_count': 1})\n",
      "(3376781934, {'y': 50.0686232, 'x': 19.9158356, 'street_count': 3})\n"
     ]
    }
   ],
   "source": [
    "print(G)\n",
    "print(nx.number_of_nodes(G))\n",
    "print(nx.number_of_edges(G))\n",
    "\n",
    "for edge in G.edges(data=True):\n",
    "    print(edge)\n",
    "\n",
    "for node in G.nodes(data=True):\n",
    "    print(node)"
   ]
  },
  {
   "cell_type": "code",
   "execution_count": 4,
   "id": "fecdf0c1",
   "metadata": {},
   "outputs": [
    {
     "name": "stdout",
     "output_type": "stream",
     "text": [
      "267538595 264345061\n",
      "[267538595, 236160072, 236160006, 264345061]\n"
     ]
    },
    {
     "data": {
      "image/png": "[encoded data removed]",
      "text/plain": [
       "<Figure size 800x800 with 1 Axes>"
      ]
     },
     "metadata": {},
     "output_type": "display_data"
    },
    {
     "data": {
      "image/png": "[encoded data removed]",
      "text/plain": [
       "<Figure size 800x800 with 1 Axes>"
      ]
     },
     "metadata": {},
     "output_type": "display_data"
    },
    {
     "data": {
      "text/plain": [
       "(<Figure size 800x800 with 1 Axes>, <Axes: >)"
      ]
     },
     "execution_count": 4,
     "metadata": {},
     "output_type": "execute_result"
    }
   ],
   "source": [
    "from random import sample\n",
    "\n",
    "\n",
    "def get_all_node_ids(graph):\n",
    "  return list(graph.nodes)\n",
    "\n",
    "def bfs_shortest_path(graph, source, target):\n",
    "  return nx.shortest_path(graph, source=source, target=target, weight='length')\n",
    "\n",
    "node_1 = sample(list(G.nodes), 1)[0]\n",
    "node_2 = sample(list(G.nodes), 1)[0]\n",
    "print(node_1, node_2)\n",
    "path = bfs_shortest_path(G, node_1, node_2)\n",
    "print(path)\n",
    "\n",
    "# draw graph with path\n",
    "fig, ax = ox.plot_graph(G, node_size=0, edge_color='gray', edge_linewidth=0.5)\n",
    "ox.plot_graph_route(G, path, ax=ax, route_linewidth=6, node_size=0, edge_color='r')\n",
    "\n",
    "# save the plot\n",
    "fig.savefig('path.png', dpi=300, bbox_inches='tight')\n",
    "ox.plot_graph(G, node_size=0, edge_color='gray', edge_linewidth=0.5)\n",
    "\n"
   ]
  },
  {
   "cell_type": "code",
   "execution_count": 5,
   "id": "90028738-c97e-433c-a836-e5aee235892c",
   "metadata": {},
   "outputs": [
    {
     "data": {
      "image/png": "[encoded data removed]",
      "text/plain": [
       "<Figure size 1600x1600 with 1 Axes>"
      ]
     },
     "metadata": {},
     "output_type": "display_data"
    },
    {
     "data": {
      "text/plain": [
       "(<Figure size 1600x1600 with 1 Axes>, <Axes: >)"
      ]
     },
     "execution_count": 5,
     "metadata": {},
     "output_type": "execute_result"
    }
   ],
   "source": [
    "ox.plot_graph(G, figsize=(16, 16), save=True, filepath='./input_data/map.png', dpi=600, node_color='g', edge_color='r', node_size=65)"
   ]
  },
  {
   "cell_type": "code",
   "execution_count": 6,
   "id": "337a9412-7769-45b9-bf54-82287dabc96d",
   "metadata": {},
   "outputs": [
    {
     "data": {
      "text/plain": [
       "{'osmid': 24345907,\n",
       " 'highway': 'residential',\n",
       " 'lanes': '2',\n",
       " 'maxspeed': '50',\n",
       " 'name': 'Miechowska',\n",
       " 'oneway': False,\n",
       " 'reversed': True,\n",
       " 'length': np.float64(22.119597424091033),\n",
       " 'geometry': <LINESTRING (19.914 50.068, 19.914 50.068, 19.914 50.067)>}"
      ]
     },
     "execution_count": 6,
     "metadata": {},
     "output_type": "execute_result"
    }
   ],
   "source": [
    "G.adj[236160006][264345061][0]"
   ]
  },
  {
   "cell_type": "code",
   "execution_count": 7,
   "id": "5869634f-563c-41da-b33e-81b0728ab50e",
   "metadata": {},
   "outputs": [
    {
     "data": {
      "text/plain": [
       "{'osmid': 24345907,\n",
       " 'highway': 'residential',\n",
       " 'lanes': '2',\n",
       " 'maxspeed': '50',\n",
       " 'name': 'Miechowska',\n",
       " 'oneway': False,\n",
       " 'reversed': True,\n",
       " 'length': np.float64(22.119597424091033),\n",
       " 'geometry': <LINESTRING (19.914 50.068, 19.914 50.068, 19.914 50.067)>}"
      ]
     },
     "execution_count": 7,
     "metadata": {},
     "output_type": "execute_result"
    }
   ],
   "source": [
    "G.adj[236160006][264345061][0]"
   ]
  },
  {
   "cell_type": "code",
   "execution_count": 8,
   "id": "099ae56e-b16d-489b-979f-7b03332df407",
   "metadata": {},
   "outputs": [
    {
     "data": {
      "text/plain": [
       "{'y': 50.0676446, 'x': 19.9144835, 'street_count': 3}"
      ]
     },
     "execution_count": 8,
     "metadata": {},
     "output_type": "execute_result"
    }
   ],
   "source": [
    "G.nodes[236160006]"
   ]
  },
  {
   "cell_type": "code",
   "execution_count": 9,
   "id": "88f9b7e3-71f3-492e-a646-030170230ec6",
   "metadata": {},
   "outputs": [
    {
     "name": "stdout",
     "output_type": "stream",
     "text": [
      "495649040\n",
      "495649054\n",
      "[(236160006, 264345061, 0), (236160006, 236306981, 0), (236160006, 236160072, 0), (236160072, 267538595, 0), (236160072, 273461469, 0), (236160072, 236160006, 0), (236306981, 236160006, 0), (236306981, 281474610, 0), (264345061, 236160006, 0), (267538595, 273461466, 0), (267538595, 236160072, 0), (273461469, 273461466, 0), (273461469, 236160072, 0), (281474610, 236306981, 0), (281474610, 281474691, 0), (281474691, 281474610, 0), (281474691, 3044475380, 0), (281474691, 3376781934, 0), (495649040, 495649052, 0), (495649040, 273461469, 0), (495649052, 495649054, 0), (495649052, 495649040, 0), (495649054, 495649052, 0), (3044475380, 281474691, 0), (3376781933, 3376781934, 0), (3376781934, 3376781933, 0), (3376781934, 281474691, 0)]\n",
      "{0: {'osmid': 178067341, 'highway': 'residential', 'lanes': '2', 'maxspeed': '50', 'name': 'Urzędnicza', 'oneway': False, 'reversed': False, 'length': np.float64(17.58251982326308), 'geometry': <LINESTRING (19.918 50.068, 19.918 50.068, 19.918 50.068)>}}\n"
     ]
    },
    {
     "data": {
      "text/plain": [
       "{236160006,\n",
       " 236160072,\n",
       " 236306981,\n",
       " 264345061,\n",
       " 267538595,\n",
       " 273461466,\n",
       " 273461469,\n",
       " 281474610,\n",
       " 281474691,\n",
       " 495649040,\n",
       " 495649052,\n",
       " 495649054,\n",
       " 3044475380,\n",
       " 3376781933,\n",
       " 3376781934}"
      ]
     },
     "execution_count": 9,
     "metadata": {},
     "output_type": "execute_result"
    }
   ],
   "source": [
    "for i in set(G.successors(495649052)) | set(G.predecessors(495649052)):\n",
    "    print(i)\n",
    "\n",
    "print(G.edges)\n",
    "\n",
    "print(G.adj[273461469][236160072])\n",
    "\n",
    "(set(map(lambda x: x[1], list(nx.bfs_edges(G, 273461469)))) | set([273461469])) == set(G.nodes)\n",
    "\n",
    "set(G.nodes)\n"
   ]
  },
  {
   "cell_type": "code",
   "execution_count": 10,
   "id": "0b4e1510-d748-41ea-b0d8-011d80b4252f",
   "metadata": {},
   "outputs": [
    {
     "data": {
      "text/plain": [
       "(236160006,\n",
       " 236160072,\n",
       " 236306981,\n",
       " 264345061,\n",
       " 267538595,\n",
       " 273461466,\n",
       " 273461469,\n",
       " 281474610,\n",
       " 281474691,\n",
       " 495649040,\n",
       " 495649052,\n",
       " 495649054,\n",
       " 3044475380,\n",
       " 3376781933,\n",
       " 3376781934)"
      ]
     },
     "execution_count": 10,
     "metadata": {},
     "output_type": "execute_result"
    }
   ],
   "source": [
    "tuple(G.nodes)"
   ]
  },
  {
   "cell_type": "code",
   "execution_count": 11,
   "id": "3aeb289d-45cc-4e10-894a-047892809233",
   "metadata": {},
   "outputs": [],
   "source": [
    "T = nx.bfs_tree(G, 236160006)"
   ]
  },
  {
   "cell_type": "code",
   "execution_count": 12,
   "id": "ee955d4e-5617-4a92-8f98-f66759c950c5",
   "metadata": {},
   "outputs": [
    {
     "data": {
      "text/plain": [
       "11"
      ]
     },
     "execution_count": 12,
     "metadata": {},
     "output_type": "execute_result"
    }
   ],
   "source": [
    "len(T.edges())"
   ]
  },
  {
   "cell_type": "code",
   "execution_count": 13,
   "id": "eb12b1ed-306e-40ba-9adc-fc0c9e113db2",
   "metadata": {},
   "outputs": [
    {
     "data": {
      "text/plain": [
       "12"
      ]
     },
     "execution_count": 13,
     "metadata": {},
     "output_type": "execute_result"
    }
   ],
   "source": [
    "len(T.nodes())"
   ]
  },
  {
   "cell_type": "code",
   "execution_count": 14,
   "id": "44422be5-c15e-405a-97e9-258765e54eeb",
   "metadata": {},
   "outputs": [
    {
     "data": {
      "text/plain": [
       "{'osmid': 24345907,\n",
       " 'highway': 'residential',\n",
       " 'lanes': '2',\n",
       " 'maxspeed': '50',\n",
       " 'name': 'Miechowska',\n",
       " 'oneway': False,\n",
       " 'reversed': True,\n",
       " 'length': np.float64(22.119597424091033),\n",
       " 'geometry': <LINESTRING (19.914 50.068, 19.914 50.068, 19.914 50.067)>}"
      ]
     },
     "execution_count": 14,
     "metadata": {},
     "output_type": "execute_result"
    }
   ],
   "source": [
    "G.adj[236160006][264345061][0]"
   ]
  },
  {
   "cell_type": "code",
   "execution_count": 15,
   "id": "f067c3cd-7ab7-4470-8f53-65fef9802026",
   "metadata": {},
   "outputs": [
    {
     "data": {
      "text/plain": [
       "np.float64(1080.5924327610455)"
      ]
     },
     "execution_count": 15,
     "metadata": {},
     "output_type": "execute_result"
    }
   ],
   "source": [
    "sum(map(lambda x: G.adj[x[0]][x[1]][0]['length'], T.edges()))"
   ]
  },
  {
   "cell_type": "code",
   "execution_count": null,
   "id": "42b8178c-bad6-4665-91cb-18f968d21827",
   "metadata": {},
   "outputs": [],
   "source": []
  },
  {
   "cell_type": "code",
   "execution_count": 16,
   "id": "7dc3ff3b",
   "metadata": {},
   "outputs": [
    {
     "name": "stdout",
     "output_type": "stream",
     "text": [
      "cannot find path between 3376781933 and 495649052\n",
      "cannot find path between 273461466 and 273461469\n",
      "{'id': 0, 'type': 'bus', 'start_time': 3, 'from_node': 495649052, 'to_node': 3044475380, 'path': [495649052, 495649040, 273461469, 236160072, 236160006, 236306981, 281474610, 281474691, 3044475380]}\n",
      "{'id': 1, 'type': 'motorcycle', 'start_time': 4, 'from_node': 273461469, 'to_node': 3376781933, 'path': [273461469, 236160072, 236160006, 236306981, 281474610, 281474691, 3376781934, 3376781933]}\n",
      "{'id': 2, 'type': 'motorcycle', 'start_time': 23, 'from_node': 495649054, 'to_node': 3044475380, 'path': [495649054, 495649052, 495649040, 273461469, 236160072, 236160006, 236306981, 281474610, 281474691, 3044475380]}\n",
      "{'id': 3, 'type': 'car', 'start_time': 27, 'from_node': 3376781933, 'to_node': 236306981, 'path': [3376781933, 3376781934, 281474691, 281474610, 236306981]}\n",
      "{'id': 4, 'type': 'bus', 'start_time': 34, 'from_node': 281474691, 'to_node': 264345061, 'path': [281474691, 281474610, 236306981, 236160006, 264345061]}\n",
      "{'id': 5, 'type': 'bus', 'start_time': 67, 'from_node': 281474610, 'to_node': 273461466, 'path': [281474610, 236306981, 236160006, 236160072, 273461469, 273461466]}\n",
      "{'id': 6, 'type': 'motorcycle', 'start_time': 91, 'from_node': 236306981, 'to_node': 273461469, 'path': [236306981, 236160006, 236160072, 273461469]}\n",
      "{'id': 7, 'type': 'motorcycle', 'start_time': 92, 'from_node': 273461469, 'to_node': 236306981, 'path': [273461469, 236160072, 236160006, 236306981]}\n"
     ]
    }
   ],
   "source": [
    "import random\n",
    "def get_all_node_ids(graph):\n",
    "  return list(graph.nodes)\n",
    "\n",
    "def bfs_shortest_path(graph, source, target):\n",
    "  return nx.shortest_path(graph, source=source, target=target, weight='length')\n",
    "\n",
    "node_1 = sample(list(G.nodes), 1)[0]\n",
    "node_2 = sample(list(G.nodes), 1)[0]\n",
    "# print(node_1, node_2)\n",
    "# path = bfs_shortest_path(G, node_1, node_2)\n",
    "# print(path)\n",
    "\n",
    "def generate_vehicles(start_time, end_time, probability):\n",
    "    vehicles = []\n",
    "    types = ['car', 'bus', 'truck', 'motorcycle']\n",
    "    idx = 0\n",
    "    for i in range(start_time, end_time):\n",
    "        if random.random() < probability:\n",
    "            start_node = sample(list(G.nodes), 1)[0]\n",
    "            end_node = sample(list(G.nodes), 1)[0]\n",
    "            try:\n",
    "              path = bfs_shortest_path(G, start_node, end_node)\n",
    "            except: # Path not found\n",
    "              print(f'cannot find path between {start_node} and {end_node}')\n",
    "              continue\n",
    "            \n",
    "            if not path:\n",
    "                continue\n",
    "            \n",
    "            # Randomly select a vehicle type\n",
    "            vehicle_type = random.choice(types)\n",
    "            vehicle = {\n",
    "                'id': idx,\n",
    "                'type': vehicle_type,\n",
    "                'start_time': i,\n",
    "                'from_node': start_node,\n",
    "                'to_node': end_node,\n",
    "                'path': path\n",
    "            }\n",
    "            idx += 1\n",
    "\n",
    "            vehicles.append(vehicle)\n",
    "    return vehicles\n",
    "\n",
    "vehicles = generate_vehicles(0, 100, 0.1)\n",
    "for vehicle in vehicles:\n",
    "    print(vehicle)"
   ]
  }
 ],
 "metadata": {
  "kernelspec": {
   "display_name": "agent-systems-env",
   "language": "python",
   "name": "python3"
  },
  "language_info": {
   "codemirror_mode": {
    "name": "ipython",
    "version": 3
   },
   "file_extension": ".py",
   "mimetype": "text/x-python",
   "name": "python",
   "nbconvert_exporter": "python",
   "pygments_lexer": "ipython3",
   "version": "3.12.1"
  }
 },
 "nbformat": 4,
 "nbformat_minor": 5
}
