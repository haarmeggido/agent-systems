{
 "cells": [
  {
   "cell_type": "code",
   "id": "8517c762-ae40-4b57-9299-769a1da56bc2",
   "metadata": {
    "ExecuteTime": {
     "end_time": "2025-05-18T18:21:46.613720Z",
     "start_time": "2025-05-18T18:21:44.924135Z"
    }
   },
   "source": [
    "import osmnx as ox\n",
    "import networkx as nx"
   ],
   "outputs": [],
   "execution_count": 1
  },
  {
   "metadata": {
    "ExecuteTime": {
     "end_time": "2025-05-18T18:21:46.626769Z",
     "start_time": "2025-05-18T18:21:46.624033Z"
    }
   },
   "cell_type": "code",
   "source": "ox.settings.use_cache = False",
   "id": "e74da95ddc68ea53",
   "outputs": [],
   "execution_count": 2
  },
  {
   "cell_type": "code",
   "id": "ffdd6683-c00b-466e-a4d3-87d745f1c5f6",
   "metadata": {
    "ExecuteTime": {
     "end_time": "2025-05-18T18:21:47.957825Z",
     "start_time": "2025-05-18T18:21:46.747327Z"
    }
   },
   "source": [
    "G = ox.graph.graph_from_bbox((19.912119, 50.066637, 19.921871, 50.069047), network_type='drive')\n",
    "G"
   ],
   "outputs": [
    {
     "data": {
      "text/plain": [
       "<networkx.classes.multidigraph.MultiDiGraph at 0x7f0f0826e780>"
      ]
     },
     "execution_count": 3,
     "metadata": {},
     "output_type": "execute_result"
    }
   ],
   "execution_count": 3
  },
  {
   "cell_type": "code",
   "id": "1b710594",
   "metadata": {
    "ExecuteTime": {
     "end_time": "2025-05-18T18:21:47.979477Z",
     "start_time": "2025-05-18T18:21:47.976079Z"
    }
   },
   "source": [
    "print(G)\n",
    "print(nx.number_of_nodes(G))\n",
    "print(nx.number_of_edges(G))\n",
    "\n",
    "for edge in G.edges(data=True):\n",
    "    print(edge)\n",
    "\n",
    "for node in G.nodes(data=True):\n",
    "    print(node)"
   ],
   "outputs": [
    {
     "name": "stdout",
     "output_type": "stream",
     "text": [
      "MultiDiGraph with 15 nodes and 27 edges\n",
      "15\n",
      "27\n",
      "(236160006, 264345061, {'osmid': 24345907, 'highway': 'residential', 'lanes': '2', 'maxspeed': '50', 'name': 'Miechowska', 'oneway': False, 'reversed': True, 'length': np.float64(22.119597424091033), 'geometry': <LINESTRING (19.914 50.068, 19.914 50.068, 19.914 50.067)>})\n",
      "(236160006, 236306981, {'osmid': 24559263, 'highway': 'secondary', 'lanes': '3', 'maxspeed': '50', 'name': 'Nawojki', 'oneway': False, 'reversed': False, 'length': np.float64(70.5049494600211), 'geometry': <LINESTRING (19.914 50.068, 19.914 50.068, 19.914 50.068)>})\n",
      "(236160006, 236160072, {'osmid': [538978472, 840207982, 840207983, 440915828, 384158490], 'highway': 'secondary', 'lanes': '3', 'maxspeed': '50', 'name': 'Czarnowiejska', 'oneway': False, 'reversed': [False, True], 'length': np.float64(264.389154709604), 'geometry': <LINESTRING (19.914 50.068, 19.915 50.068, 19.915 50.068, 19.915 50.068, 19....>})\n",
      "(236160072, 267538595, {'osmid': 155221402, 'highway': 'secondary', 'lanes': '3', 'maxspeed': '50', 'name': 'Czarnowiejska', 'oneway': False, 'reversed': False, 'length': np.float64(170.13440517414654), 'geometry': <LINESTRING (19.918 50.068, 19.919 50.067, 19.919 50.067, 19.919 50.067, 19....>})\n",
      "(236160072, 273461469, {'osmid': 178067341, 'highway': 'residential', 'lanes': '2', 'maxspeed': '50', 'name': 'Urzędnicza', 'oneway': False, 'reversed': True, 'length': np.float64(17.58251982326308), 'geometry': <LINESTRING (19.918 50.068, 19.918 50.068, 19.918 50.068)>})\n",
      "(236160072, 236160006, {'osmid': [538978472, 840207982, 840207983, 440915828, 384158490], 'highway': 'secondary', 'lanes': '3', 'maxspeed': '50', 'name': 'Czarnowiejska', 'oneway': False, 'reversed': [False, True], 'length': np.float64(264.38915470960393), 'geometry': <LINESTRING (19.918 50.068, 19.918 50.068, 19.918 50.068, 19.918 50.068, 19....>})\n",
      "(236306981, 236160006, {'osmid': 24559263, 'highway': 'secondary', 'lanes': '3', 'maxspeed': '50', 'name': 'Nawojki', 'oneway': False, 'reversed': True, 'length': np.float64(70.5049494600211), 'geometry': <LINESTRING (19.914 50.068, 19.914 50.068, 19.914 50.068)>})\n",
      "(236306981, 281474610, {'osmid': 713092110, 'highway': 'tertiary', 'lanes': '3', 'maxspeed': '50', 'name': 'Aleja Kijowska', 'oneway': False, 'reversed': False, 'length': np.float64(62.130973879563335), 'geometry': <LINESTRING (19.914 50.068, 19.914 50.068, 19.914 50.068, 19.914 50.068, 19....>})\n",
      "(264345061, 236160006, {'osmid': 24345907, 'highway': 'residential', 'lanes': '2', 'maxspeed': '50', 'name': 'Miechowska', 'oneway': False, 'reversed': False, 'length': np.float64(22.119597424091033), 'geometry': <LINESTRING (19.914 50.067, 19.914 50.068, 19.914 50.068)>})\n",
      "(267538595, 273461466, {'osmid': [24611315, 288028119], 'highway': 'residential', 'maxspeed': '30', 'name': 'Stanisława Konarskiego', 'oneway': True, 'reversed': False, 'length': np.float64(158.64554438502202), 'lanes': '1', 'geometry': <LINESTRING (19.92 50.067, 19.92 50.067, 19.921 50.068, 19.921 50.068)>})\n",
      "(267538595, 236160072, {'osmid': 155221402, 'highway': 'secondary', 'lanes': '3', 'maxspeed': '50', 'name': 'Czarnowiejska', 'oneway': False, 'reversed': True, 'length': np.float64(170.13440517414654), 'geometry': <LINESTRING (19.92 50.067, 19.919 50.067, 19.919 50.067, 19.919 50.067, 19.9...>})\n",
      "(273461469, 273461466, {'osmid': 25116630, 'highway': 'residential', 'maxspeed': '30', 'name': 'Fryderyka Chopina', 'oneway': True, 'reversed': False, 'length': np.float64(201.96752216391994), 'geometry': <LINESTRING (19.918 50.068, 19.918 50.068, 19.92 50.068, 19.921 50.068, 19.9...>})\n",
      "(273461469, 236160072, {'osmid': 178067341, 'highway': 'residential', 'lanes': '2', 'maxspeed': '50', 'name': 'Urzędnicza', 'oneway': False, 'reversed': False, 'length': np.float64(17.58251982326308), 'geometry': <LINESTRING (19.918 50.068, 19.918 50.068, 19.918 50.068)>})\n",
      "(281474610, 236306981, {'osmid': 713092110, 'highway': 'tertiary', 'lanes': '3', 'maxspeed': '50', 'name': 'Aleja Kijowska', 'oneway': False, 'reversed': True, 'length': np.float64(62.13097387956333), 'geometry': <LINESTRING (19.914 50.069, 19.914 50.068, 19.914 50.068, 19.914 50.068, 19....>})\n",
      "(281474610, 281474691, {'osmid': [1155625064, 25805358], 'highway': 'residential', 'lanes': '2', 'maxspeed': '30', 'name': 'Elbląska', 'oneway': False, 'reversed': True, 'length': np.float64(116.91434877877035), 'geometry': <LINESTRING (19.914 50.069, 19.914 50.068, 19.915 50.068, 19.915 50.069, 19....>})\n",
      "(281474691, 281474610, {'osmid': [1155625064, 25805358], 'highway': 'residential', 'maxspeed': '30', 'name': 'Elbląska', 'oneway': False, 'reversed': False, 'length': np.float64(116.91434877877035), 'lanes': '2', 'geometry': <LINESTRING (19.915 50.069, 19.915 50.069, 19.915 50.069, 19.915 50.069, 19....>})\n",
      "(281474691, 3044475380, {'osmid': 300358971, 'highway': 'residential', 'name': 'Chocimska', 'oneway': False, 'reversed': False, 'length': np.float64(150.68126537200607), 'geometry': <LINESTRING (19.915 50.069, 19.915 50.069, 19.915 50.068, 19.915 50.068, 19....>})\n",
      "(281474691, 3376781934, {'osmid': 330685750, 'highway': 'residential', 'lanes': '1', 'oneway': False, 'reversed': False, 'length': np.float64(37.37553499032879), 'geometry': <LINESTRING (19.915 50.069, 19.915 50.069, 19.916 50.069)>})\n",
      "(495649040, 495649052, {'osmid': 40779705, 'highway': 'residential', 'lanes': '2', 'maxspeed': '30', 'name': 'Ogrodniczek', 'oneway': False, 'reversed': True, 'length': np.float64(71.86869400479833), 'geometry': <LINESTRING (19.918 50.069, 19.918 50.069, 19.917 50.069, 19.917 50.069)>})\n",
      "(495649040, 273461469, {'osmid': 447662460, 'highway': 'residential', 'maxspeed': '30', 'name': 'Urzędnicza', 'oneway': True, 'reversed': False, 'length': np.float64(135.21277684557657), 'geometry': <LINESTRING (19.918 50.069, 19.918 50.068, 19.918 50.068)>})\n",
      "(495649052, 495649054, {'osmid': 40779666, 'highway': 'residential', 'maxspeed': '30', 'name': 'Spokojna', 'oneway': False, 'reversed': False, 'length': np.float64(124.95841262149663), 'geometry': <LINESTRING (19.917 50.069, 19.917 50.068, 19.917 50.068)>})\n",
      "(495649052, 495649040, {'osmid': 40779705, 'highway': 'residential', 'lanes': '2', 'maxspeed': '30', 'name': 'Ogrodniczek', 'oneway': False, 'reversed': False, 'length': np.float64(71.86869400479834), 'geometry': <LINESTRING (19.917 50.069, 19.917 50.069, 19.918 50.069, 19.918 50.069)>})\n",
      "(495649054, 495649052, {'osmid': 40779666, 'highway': 'residential', 'maxspeed': '30', 'name': 'Spokojna', 'oneway': False, 'reversed': True, 'length': np.float64(124.95841262149663), 'geometry': <LINESTRING (19.917 50.068, 19.917 50.068, 19.917 50.069)>})\n",
      "(3044475380, 281474691, {'osmid': 300358971, 'highway': 'residential', 'name': 'Chocimska', 'oneway': False, 'reversed': True, 'length': np.float64(150.68126537200607), 'geometry': <LINESTRING (19.916 50.068, 19.915 50.068, 19.915 50.068, 19.915 50.068, 19....>})\n",
      "(3376781933, 3376781934, {'osmid': 330685750, 'highway': 'residential', 'lanes': '1', 'oneway': False, 'reversed': True, 'length': np.float64(10.114138764229109)})\n",
      "(3376781934, 3376781933, {'osmid': 330685750, 'highway': 'residential', 'lanes': '1', 'oneway': False, 'reversed': False, 'length': np.float64(10.114138764229109)})\n",
      "(3376781934, 281474691, {'osmid': 330685750, 'highway': 'residential', 'lanes': '1', 'oneway': False, 'reversed': True, 'length': np.float64(37.37553499032879), 'geometry': <LINESTRING (19.916 50.069, 19.915 50.069, 19.915 50.069)>})\n",
      "(236160006, {'y': 50.0676446, 'x': 19.9144835, 'street_count': 3})\n",
      "(236160072, {'y': 50.0675762, 'x': 19.918162, 'highway': 'traffic_signals', 'street_count': 3})\n",
      "(236306981, {'y': 50.0679708, 'x': 19.9136371, 'highway': 'traffic_signals', 'street_count': 3})\n",
      "(264345061, {'y': 50.0674527, 'x': 19.9144019, 'street_count': 3})\n",
      "(267538595, {'y': 50.0669962, 'x': 19.9203677, 'street_count': 4})\n",
      "(273461466, {'y': 50.0683923, 'x': 19.9208255, 'street_count': 4})\n",
      "(273461469, {'y': 50.0677319, 'x': 19.9182035, 'street_count': 3})\n",
      "(281474610, {'y': 50.0685162, 'x': 19.913807, 'street_count': 3})\n",
      "(281474691, {'y': 50.0686581, 'x': 19.9153155, 'street_count': 4})\n",
      "(495649040, {'y': 50.0689448, 'x': 19.9183386, 'street_count': 3})\n",
      "(495649052, {'y': 50.0690013, 'x': 19.9173355, 'street_count': 3})\n",
      "(495649054, {'y': 50.067881, 'x': 19.9171979, 'street_count': 1})\n",
      "(3044475380, {'y': 50.0678706, 'x': 19.9160781, 'street_count': 1})\n",
      "(3376781933, {'y': 50.0686155, 'x': 19.9159768, 'street_count': 1})\n",
      "(3376781934, {'y': 50.0686232, 'x': 19.9158356, 'street_count': 3})\n"
     ]
    }
   ],
   "execution_count": 4
  },
  {
   "cell_type": "code",
   "id": "fecdf0c1",
   "metadata": {
    "ExecuteTime": {
     "end_time": "2025-05-18T18:21:48.292924Z",
     "start_time": "2025-05-18T18:21:48.109967Z"
    }
   },
   "source": [
    "from random import sample\n",
    "\n",
    "\n",
    "def get_all_node_ids(graph):\n",
    "  return list(graph.nodes)\n",
    "\n",
    "def bfs_shortest_path(graph, source, target):\n",
    "  return nx.shortest_path(graph, source=source, target=target, weight='length')\n",
    "\n",
    "node_1 = sample(list(G.nodes), 1)[0]\n",
    "node_2 = sample(list(G.nodes), 1)[0]\n",
    "print(node_1, node_2)\n",
    "path = bfs_shortest_path(G, node_1, node_2)\n",
    "print(path)\n",
    "\n",
    "# draw graph with path\n",
    "fig, ax = ox.plot_graph(G, node_size=0, edge_color='gray', edge_linewidth=0.5)\n",
    "ox.plot_graph_route(G, path, ax=ax, route_linewidth=6, node_size=0, edge_color='r')\n",
    "\n",
    "# save the plot\n",
    "fig.savefig('path.png', dpi=300, bbox_inches='tight')\n",
    "ox.plot_graph(G, node_size=0, edge_color='gray', edge_linewidth=0.5)\n",
    "\n"
   ],
   "outputs": [
    {
     "name": "stdout",
     "output_type": "stream",
     "text": [
      "495649040 264345061\n",
      "[495649040, 273461469, 236160072, 236160006, 264345061]\n"
     ]
    },
    {
     "data": {
      "text/plain": [
       "<Figure size 800x800 with 1 Axes>"
      ],
      "image/png": "[encoded data removed]"
     },
     "metadata": {},
     "output_type": "display_data"
    },
    {
     "data": {
      "text/plain": [
       "<Figure size 800x800 with 1 Axes>"
      ],
      "image/png": "[encoded data removed]"
     },
     "metadata": {},
     "output_type": "display_data"
    },
    {
     "data": {
      "text/plain": [
       "(<Figure size 800x800 with 1 Axes>, <Axes: >)"
      ]
     },
     "execution_count": 5,
     "metadata": {},
     "output_type": "execute_result"
    }
   ],
   "execution_count": 5
  },
  {
   "cell_type": "code",
   "id": "90028738-c97e-433c-a836-e5aee235892c",
   "metadata": {
    "ExecuteTime": {
     "end_time": "2025-05-18T18:21:49.044618Z",
     "start_time": "2025-05-18T18:21:48.305019Z"
    }
   },
   "source": [
    "ox.plot_graph(G, figsize=(16, 16), save=True, filepath='./input_data/map.png', dpi=600, node_color='g', edge_color='r', node_size=65)"
   ],
   "outputs": [
    {
     "data": {
      "text/plain": [
       "<Figure size 1600x1600 with 1 Axes>"
      ],
      "image/png": "[encoded data removed]"
     },
     "metadata": {},
     "output_type": "display_data"
    },
    {
     "data": {
      "text/plain": [
       "(<Figure size 1600x1600 with 1 Axes>, <Axes: >)"
      ]
     },
     "execution_count": 6,
     "metadata": {},
     "output_type": "execute_result"
    }
   ],
   "execution_count": 6
  },
  {
   "cell_type": "code",
   "id": "337a9412-7769-45b9-bf54-82287dabc96d",
   "metadata": {
    "ExecuteTime": {
     "end_time": "2025-05-18T18:21:49.058770Z",
     "start_time": "2025-05-18T18:21:49.055646Z"
    }
   },
   "source": [
    "G.adj[236160006][264345061][0]"
   ],
   "outputs": [
    {
     "data": {
      "text/plain": [
       "{'osmid': 24345907,\n",
       " 'highway': 'residential',\n",
       " 'lanes': '2',\n",
       " 'maxspeed': '50',\n",
       " 'name': 'Miechowska',\n",
       " 'oneway': False,\n",
       " 'reversed': True,\n",
       " 'length': np.float64(22.119597424091033),\n",
       " 'geometry': <LINESTRING (19.914 50.068, 19.914 50.068, 19.914 50.067)>}"
      ]
     },
     "execution_count": 7,
     "metadata": {},
     "output_type": "execute_result"
    }
   ],
   "execution_count": 7
  },
  {
   "cell_type": "code",
   "id": "5869634f-563c-41da-b33e-81b0728ab50e",
   "metadata": {
    "ExecuteTime": {
     "end_time": "2025-05-18T18:21:49.121772Z",
     "start_time": "2025-05-18T18:21:49.117799Z"
    }
   },
   "source": [
    "G.adj[236160006][264345061][0]"
   ],
   "outputs": [
    {
     "data": {
      "text/plain": [
       "{'osmid': 24345907,\n",
       " 'highway': 'residential',\n",
       " 'lanes': '2',\n",
       " 'maxspeed': '50',\n",
       " 'name': 'Miechowska',\n",
       " 'oneway': False,\n",
       " 'reversed': True,\n",
       " 'length': np.float64(22.119597424091033),\n",
       " 'geometry': <LINESTRING (19.914 50.068, 19.914 50.068, 19.914 50.067)>}"
      ]
     },
     "execution_count": 8,
     "metadata": {},
     "output_type": "execute_result"
    }
   ],
   "execution_count": 8
  },
  {
   "cell_type": "code",
   "id": "099ae56e-b16d-489b-979f-7b03332df407",
   "metadata": {
    "ExecuteTime": {
     "end_time": "2025-05-18T18:21:49.182023Z",
     "start_time": "2025-05-18T18:21:49.178081Z"
    }
   },
   "source": [
    "G.nodes[236160006]"
   ],
   "outputs": [
    {
     "data": {
      "text/plain": [
       "{'y': 50.0676446, 'x': 19.9144835, 'street_count': 3}"
      ]
     },
     "execution_count": 9,
     "metadata": {},
     "output_type": "execute_result"
    }
   ],
   "execution_count": 9
  },
  {
   "cell_type": "code",
   "id": "88f9b7e3-71f3-492e-a646-030170230ec6",
   "metadata": {
    "ExecuteTime": {
     "end_time": "2025-05-18T18:21:49.244200Z",
     "start_time": "2025-05-18T18:21:49.239362Z"
    }
   },
   "source": [
    "for i in set(G.successors(495649052)) | set(G.predecessors(495649052)):\n",
    "    print(i)\n",
    "\n",
    "print(G.edges)\n",
    "\n",
    "print(G.adj[273461469][236160072])\n",
    "\n",
    "(set(map(lambda x: x[1], list(nx.bfs_edges(G, 273461469)))) | set([273461469])) == set(G.nodes)\n",
    "\n",
    "set(G.nodes)\n"
   ],
   "outputs": [
    {
     "name": "stdout",
     "output_type": "stream",
     "text": [
      "495649040\n",
      "495649054\n",
      "[(236160006, 264345061, 0), (236160006, 236306981, 0), (236160006, 236160072, 0), (236160072, 267538595, 0), (236160072, 273461469, 0), (236160072, 236160006, 0), (236306981, 236160006, 0), (236306981, 281474610, 0), (264345061, 236160006, 0), (267538595, 273461466, 0), (267538595, 236160072, 0), (273461469, 273461466, 0), (273461469, 236160072, 0), (281474610, 236306981, 0), (281474610, 281474691, 0), (281474691, 281474610, 0), (281474691, 3044475380, 0), (281474691, 3376781934, 0), (495649040, 495649052, 0), (495649040, 273461469, 0), (495649052, 495649054, 0), (495649052, 495649040, 0), (495649054, 495649052, 0), (3044475380, 281474691, 0), (3376781933, 3376781934, 0), (3376781934, 3376781933, 0), (3376781934, 281474691, 0)]\n",
      "{0: {'osmid': 178067341, 'highway': 'residential', 'lanes': '2', 'maxspeed': '50', 'name': 'Urzędnicza', 'oneway': False, 'reversed': False, 'length': np.float64(17.58251982326308), 'geometry': <LINESTRING (19.918 50.068, 19.918 50.068, 19.918 50.068)>}}\n"
     ]
    },
    {
     "data": {
      "text/plain": [
       "{236160006,\n",
       " 236160072,\n",
       " 236306981,\n",
       " 264345061,\n",
       " 267538595,\n",
       " 273461466,\n",
       " 273461469,\n",
       " 281474610,\n",
       " 281474691,\n",
       " 495649040,\n",
       " 495649052,\n",
       " 495649054,\n",
       " 3044475380,\n",
       " 3376781933,\n",
       " 3376781934}"
      ]
     },
     "execution_count": 10,
     "metadata": {},
     "output_type": "execute_result"
    }
   ],
   "execution_count": 10
  },
  {
   "cell_type": "code",
   "id": "0b4e1510-d748-41ea-b0d8-011d80b4252f",
   "metadata": {
    "ExecuteTime": {
     "end_time": "2025-05-18T18:21:49.309624Z",
     "start_time": "2025-05-18T18:21:49.306329Z"
    }
   },
   "source": [
    "tuple(G.nodes)"
   ],
   "outputs": [
    {
     "data": {
      "text/plain": [
       "(236160006,\n",
       " 236160072,\n",
       " 236306981,\n",
       " 264345061,\n",
       " 267538595,\n",
       " 273461466,\n",
       " 273461469,\n",
       " 281474610,\n",
       " 281474691,\n",
       " 495649040,\n",
       " 495649052,\n",
       " 495649054,\n",
       " 3044475380,\n",
       " 3376781933,\n",
       " 3376781934)"
      ]
     },
     "execution_count": 11,
     "metadata": {},
     "output_type": "execute_result"
    }
   ],
   "execution_count": 11
  },
  {
   "cell_type": "code",
   "id": "3aeb289d-45cc-4e10-894a-047892809233",
   "metadata": {
    "ExecuteTime": {
     "end_time": "2025-05-18T18:21:49.374779Z",
     "start_time": "2025-05-18T18:21:49.372430Z"
    }
   },
   "source": [
    "T = nx.bfs_tree(G, 236160006)"
   ],
   "outputs": [],
   "execution_count": 12
  },
  {
   "cell_type": "code",
   "id": "ee955d4e-5617-4a92-8f98-f66759c950c5",
   "metadata": {
    "ExecuteTime": {
     "end_time": "2025-05-18T18:21:49.439453Z",
     "start_time": "2025-05-18T18:21:49.435643Z"
    }
   },
   "source": [
    "len(T.edges())"
   ],
   "outputs": [
    {
     "data": {
      "text/plain": [
       "11"
      ]
     },
     "execution_count": 13,
     "metadata": {},
     "output_type": "execute_result"
    }
   ],
   "execution_count": 13
  },
  {
   "cell_type": "code",
   "id": "eb12b1ed-306e-40ba-9adc-fc0c9e113db2",
   "metadata": {
    "ExecuteTime": {
     "end_time": "2025-05-18T18:21:49.493343Z",
     "start_time": "2025-05-18T18:21:49.490202Z"
    }
   },
   "source": [
    "len(T.nodes())"
   ],
   "outputs": [
    {
     "data": {
      "text/plain": [
       "12"
      ]
     },
     "execution_count": 14,
     "metadata": {},
     "output_type": "execute_result"
    }
   ],
   "execution_count": 14
  },
  {
   "cell_type": "code",
   "id": "44422be5-c15e-405a-97e9-258765e54eeb",
   "metadata": {
    "ExecuteTime": {
     "end_time": "2025-05-18T18:21:49.557047Z",
     "start_time": "2025-05-18T18:21:49.554006Z"
    }
   },
   "source": [
    "G.adj[236160006][264345061][0]"
   ],
   "outputs": [
    {
     "data": {
      "text/plain": [
       "{'osmid': 24345907,\n",
       " 'highway': 'residential',\n",
       " 'lanes': '2',\n",
       " 'maxspeed': '50',\n",
       " 'name': 'Miechowska',\n",
       " 'oneway': False,\n",
       " 'reversed': True,\n",
       " 'length': np.float64(22.119597424091033),\n",
       " 'geometry': <LINESTRING (19.914 50.068, 19.914 50.068, 19.914 50.067)>}"
      ]
     },
     "execution_count": 15,
     "metadata": {},
     "output_type": "execute_result"
    }
   ],
   "execution_count": 15
  },
  {
   "cell_type": "code",
   "id": "f067c3cd-7ab7-4470-8f53-65fef9802026",
   "metadata": {
    "ExecuteTime": {
     "end_time": "2025-05-18T18:21:49.614265Z",
     "start_time": "2025-05-18T18:21:49.610841Z"
    }
   },
   "source": [
    "sum(map(lambda x: G.adj[x[0]][x[1]][0]['length'], T.edges()))"
   ],
   "outputs": [
    {
     "data": {
      "text/plain": [
       "np.float64(1080.5924327610455)"
      ]
     },
     "execution_count": 16,
     "metadata": {},
     "output_type": "execute_result"
    }
   ],
   "execution_count": 16
  },
  {
   "cell_type": "code",
   "id": "42b8178c-bad6-4665-91cb-18f968d21827",
   "metadata": {
    "ExecuteTime": {
     "end_time": "2025-05-18T18:21:49.682177Z",
     "start_time": "2025-05-18T18:21:49.680276Z"
    }
   },
   "source": [],
   "outputs": [],
   "execution_count": null
  },
  {
   "cell_type": "code",
   "id": "7dc3ff3b",
   "metadata": {
    "ExecuteTime": {
     "end_time": "2025-05-18T18:21:49.740817Z",
     "start_time": "2025-05-18T18:21:49.735609Z"
    }
   },
   "source": [
    "import random\n",
    "def get_all_node_ids(graph):\n",
    "  return list(graph.nodes)\n",
    "\n",
    "def bfs_shortest_path(graph, source, target):\n",
    "  return nx.shortest_path(graph, source=source, target=target, weight='length')\n",
    "\n",
    "node_1 = sample(list(G.nodes), 1)[0]\n",
    "node_2 = sample(list(G.nodes), 1)[0]\n",
    "# print(node_1, node_2)\n",
    "# path = bfs_shortest_path(G, node_1, node_2)\n",
    "# print(path)\n",
    "\n",
    "def generate_vehicles(start_time, end_time, probability):\n",
    "    vehicles = []\n",
    "    types = ['car', 'bus', 'truck', 'motorcycle']\n",
    "    idx = 0\n",
    "    for i in range(start_time, end_time):\n",
    "        if random.random() < probability:\n",
    "            start_node = sample(list(G.nodes), 1)[0]\n",
    "            end_node = sample(list(G.nodes), 1)[0]\n",
    "            try:\n",
    "              path = bfs_shortest_path(G, start_node, end_node)\n",
    "            except: # Path not found\n",
    "              print(f'cannot find path between {start_node} and {end_node}')\n",
    "              continue\n",
    "            \n",
    "            if not path:\n",
    "                continue\n",
    "            \n",
    "            # Randomly select a vehicle type\n",
    "            vehicle_type = random.choice(types)\n",
    "            vehicle = {\n",
    "                'id': idx,\n",
    "                'type': vehicle_type,\n",
    "                'start_time': i,\n",
    "                'from_node': start_node,\n",
    "                'to_node': end_node,\n",
    "                'path': path\n",
    "            }\n",
    "            idx += 1\n",
    "\n",
    "            vehicles.append(vehicle)\n",
    "    return vehicles\n",
    "\n",
    "vehicles = generate_vehicles(0, 100, 0.1)\n",
    "for vehicle in vehicles:\n",
    "    print(vehicle)"
   ],
   "outputs": [
    {
     "name": "stdout",
     "output_type": "stream",
     "text": [
      "cannot find path between 281474691 and 495649054\n",
      "cannot find path between 264345061 and 495649054\n",
      "cannot find path between 3376781934 and 495649052\n",
      "{'id': 0, 'type': 'truck', 'start_time': 8, 'from_node': 281474691, 'to_node': 236306981, 'path': [281474691, 281474610, 236306981]}\n",
      "{'id': 1, 'type': 'motorcycle', 'start_time': 39, 'from_node': 281474610, 'to_node': 281474691, 'path': [281474610, 281474691]}\n",
      "{'id': 2, 'type': 'car', 'start_time': 45, 'from_node': 495649052, 'to_node': 236160072, 'path': [495649052, 495649040, 273461469, 236160072]}\n",
      "{'id': 3, 'type': 'bus', 'start_time': 47, 'from_node': 236160006, 'to_node': 281474610, 'path': [236160006, 236306981, 281474610]}\n",
      "{'id': 4, 'type': 'truck', 'start_time': 49, 'from_node': 236160072, 'to_node': 236160072, 'path': [236160072]}\n",
      "{'id': 5, 'type': 'motorcycle', 'start_time': 57, 'from_node': 281474610, 'to_node': 273461469, 'path': [281474610, 236306981, 236160006, 236160072, 273461469]}\n",
      "{'id': 6, 'type': 'truck', 'start_time': 59, 'from_node': 236306981, 'to_node': 236160006, 'path': [236306981, 236160006]}\n",
      "{'id': 7, 'type': 'car', 'start_time': 70, 'from_node': 236306981, 'to_node': 236160006, 'path': [236306981, 236160006]}\n",
      "{'id': 8, 'type': 'car', 'start_time': 94, 'from_node': 236306981, 'to_node': 281474691, 'path': [236306981, 281474610, 281474691]}\n"
     ]
    }
   ],
   "execution_count": 17
  },
  {
   "metadata": {
    "ExecuteTime": {
     "end_time": "2025-05-18T18:21:49.796016Z",
     "start_time": "2025-05-18T18:21:49.793834Z"
    }
   },
   "cell_type": "code",
   "source": "G_di = nx.DiGraph(G)",
   "id": "6b7abcad404b4f07",
   "outputs": [],
   "execution_count": 18
  },
  {
   "metadata": {
    "ExecuteTime": {
     "end_time": "2025-05-18T18:21:49.848628Z",
     "start_time": "2025-05-18T18:21:49.845799Z"
    }
   },
   "cell_type": "code",
   "source": "G_di.nodes",
   "id": "be91babfbda81b2e",
   "outputs": [
    {
     "data": {
      "text/plain": [
       "NodeView((236160006, 236160072, 236306981, 264345061, 267538595, 273461466, 273461469, 281474610, 281474691, 495649040, 495649052, 495649054, 3044475380, 3376781933, 3376781934))"
      ]
     },
     "execution_count": 19,
     "metadata": {},
     "output_type": "execute_result"
    }
   ],
   "execution_count": 19
  },
  {
   "metadata": {
    "ExecuteTime": {
     "end_time": "2025-05-18T18:21:49.908438Z",
     "start_time": "2025-05-18T18:21:49.905332Z"
    }
   },
   "cell_type": "code",
   "source": "G_di.edges",
   "id": "4ee82a4bec94eb4",
   "outputs": [
    {
     "data": {
      "text/plain": [
       "OutEdgeView([(236160006, 264345061), (236160006, 236306981), (236160006, 236160072), (236160072, 267538595), (236160072, 273461469), (236160072, 236160006), (236306981, 236160006), (236306981, 281474610), (264345061, 236160006), (267538595, 273461466), (267538595, 236160072), (273461469, 273461466), (273461469, 236160072), (281474610, 236306981), (281474610, 281474691), (281474691, 281474610), (281474691, 3044475380), (281474691, 3376781934), (495649040, 495649052), (495649040, 273461469), (495649052, 495649054), (495649052, 495649040), (495649054, 495649052), (3044475380, 281474691), (3376781933, 3376781934), (3376781934, 3376781933), (3376781934, 281474691)])"
      ]
     },
     "execution_count": 20,
     "metadata": {},
     "output_type": "execute_result"
    }
   ],
   "execution_count": 20
  },
  {
   "metadata": {
    "ExecuteTime": {
     "end_time": "2025-05-18T18:21:49.965887Z",
     "start_time": "2025-05-18T18:21:49.963026Z"
    }
   },
   "cell_type": "code",
   "source": "G_di.edges[236160006, 264345061]",
   "id": "cd1c0abcc7b7c012",
   "outputs": [
    {
     "data": {
      "text/plain": [
       "{'osmid': 24345907,\n",
       " 'highway': 'residential',\n",
       " 'lanes': '2',\n",
       " 'maxspeed': '50',\n",
       " 'name': 'Miechowska',\n",
       " 'oneway': False,\n",
       " 'reversed': True,\n",
       " 'length': np.float64(22.119597424091033),\n",
       " 'geometry': <LINESTRING (19.914 50.068, 19.914 50.068, 19.914 50.067)>}"
      ]
     },
     "execution_count": 21,
     "metadata": {},
     "output_type": "execute_result"
    }
   ],
   "execution_count": 21
  },
  {
   "metadata": {
    "ExecuteTime": {
     "end_time": "2025-05-18T18:21:50.021682Z",
     "start_time": "2025-05-18T18:21:50.018802Z"
    }
   },
   "cell_type": "code",
   "source": "G_di.edges[264345061, 236160006]",
   "id": "39f92b876cc0e5d",
   "outputs": [
    {
     "data": {
      "text/plain": [
       "{'osmid': 24345907,\n",
       " 'highway': 'residential',\n",
       " 'lanes': '2',\n",
       " 'maxspeed': '50',\n",
       " 'name': 'Miechowska',\n",
       " 'oneway': False,\n",
       " 'reversed': False,\n",
       " 'length': np.float64(22.119597424091033),\n",
       " 'geometry': <LINESTRING (19.914 50.067, 19.914 50.068, 19.914 50.068)>}"
      ]
     },
     "execution_count": 22,
     "metadata": {},
     "output_type": "execute_result"
    }
   ],
   "execution_count": 22
  },
  {
   "metadata": {
    "ExecuteTime": {
     "end_time": "2025-05-18T18:21:50.092357Z",
     "start_time": "2025-05-18T18:21:50.089013Z"
    }
   },
   "cell_type": "code",
   "source": "type(G_di.edges[264345061, 236160006]['geometry'])",
   "id": "a7de1a874bd5499c",
   "outputs": [
    {
     "data": {
      "text/plain": [
       "shapely.geometry.linestring.LineString"
      ]
     },
     "execution_count": 23,
     "metadata": {},
     "output_type": "execute_result"
    }
   ],
   "execution_count": 23
  },
  {
   "metadata": {
    "ExecuteTime": {
     "end_time": "2025-05-18T18:21:50.250849Z",
     "start_time": "2025-05-18T18:21:50.148076Z"
    }
   },
   "cell_type": "code",
   "source": [
    "for edge in G_di.edges:\n",
    "    print(edge)\n",
    "    print(type(G_di.edges[*edge]['geometry']))"
   ],
   "id": "5d6b4ea4efa97730",
   "outputs": [
    {
     "name": "stdout",
     "output_type": "stream",
     "text": [
      "(236160006, 264345061)\n",
      "<class 'shapely.geometry.linestring.LineString'>\n",
      "(236160006, 236306981)\n",
      "<class 'shapely.geometry.linestring.LineString'>\n",
      "(236160006, 236160072)\n",
      "<class 'shapely.geometry.linestring.LineString'>\n",
      "(236160072, 267538595)\n",
      "<class 'shapely.geometry.linestring.LineString'>\n",
      "(236160072, 273461469)\n",
      "<class 'shapely.geometry.linestring.LineString'>\n",
      "(236160072, 236160006)\n",
      "<class 'shapely.geometry.linestring.LineString'>\n",
      "(236306981, 236160006)\n",
      "<class 'shapely.geometry.linestring.LineString'>\n",
      "(236306981, 281474610)\n",
      "<class 'shapely.geometry.linestring.LineString'>\n",
      "(264345061, 236160006)\n",
      "<class 'shapely.geometry.linestring.LineString'>\n",
      "(267538595, 273461466)\n",
      "<class 'shapely.geometry.linestring.LineString'>\n",
      "(267538595, 236160072)\n",
      "<class 'shapely.geometry.linestring.LineString'>\n",
      "(273461469, 273461466)\n",
      "<class 'shapely.geometry.linestring.LineString'>\n",
      "(273461469, 236160072)\n",
      "<class 'shapely.geometry.linestring.LineString'>\n",
      "(281474610, 236306981)\n",
      "<class 'shapely.geometry.linestring.LineString'>\n",
      "(281474610, 281474691)\n",
      "<class 'shapely.geometry.linestring.LineString'>\n",
      "(281474691, 281474610)\n",
      "<class 'shapely.geometry.linestring.LineString'>\n",
      "(281474691, 3044475380)\n",
      "<class 'shapely.geometry.linestring.LineString'>\n",
      "(281474691, 3376781934)\n",
      "<class 'shapely.geometry.linestring.LineString'>\n",
      "(495649040, 495649052)\n",
      "<class 'shapely.geometry.linestring.LineString'>\n",
      "(495649040, 273461469)\n",
      "<class 'shapely.geometry.linestring.LineString'>\n",
      "(495649052, 495649054)\n",
      "<class 'shapely.geometry.linestring.LineString'>\n",
      "(495649052, 495649040)\n",
      "<class 'shapely.geometry.linestring.LineString'>\n",
      "(495649054, 495649052)\n",
      "<class 'shapely.geometry.linestring.LineString'>\n",
      "(3044475380, 281474691)\n",
      "<class 'shapely.geometry.linestring.LineString'>\n",
      "(3376781933, 3376781934)\n"
     ]
    },
    {
     "ename": "KeyError",
     "evalue": "'geometry'",
     "output_type": "error",
     "traceback": [
      "\u001B[31m---------------------------------------------------------------------------\u001B[39m",
      "\u001B[31mKeyError\u001B[39m                                  Traceback (most recent call last)",
      "\u001B[36mCell\u001B[39m\u001B[36m \u001B[39m\u001B[32mIn[24]\u001B[39m\u001B[32m, line 3\u001B[39m\n\u001B[32m      1\u001B[39m \u001B[38;5;28;01mfor\u001B[39;00m edge \u001B[38;5;129;01min\u001B[39;00m G_di.edges:\n\u001B[32m      2\u001B[39m     \u001B[38;5;28mprint\u001B[39m(edge)\n\u001B[32m----> \u001B[39m\u001B[32m3\u001B[39m     \u001B[38;5;28mprint\u001B[39m(\u001B[38;5;28mtype\u001B[39m(\u001B[43mG_di\u001B[49m\u001B[43m.\u001B[49m\u001B[43medges\u001B[49m\u001B[43m[\u001B[49m\u001B[43m*\u001B[49m\u001B[43medge\u001B[49m\u001B[43m]\u001B[49m\u001B[43m[\u001B[49m\u001B[33;43m'\u001B[39;49m\u001B[33;43mgeometry\u001B[39;49m\u001B[33;43m'\u001B[39;49m\u001B[43m]\u001B[49m))\n",
      "\u001B[31mKeyError\u001B[39m: 'geometry'"
     ]
    }
   ],
   "execution_count": 24
  },
  {
   "metadata": {
    "ExecuteTime": {
     "end_time": "2025-05-18T18:21:50.220753200Z",
     "start_time": "2025-05-04T15:50:55.417043Z"
    }
   },
   "cell_type": "code",
   "source": "G_di.edges[(3376781933, 3376781934)]",
   "id": "265e093c7abc8c00",
   "outputs": [
    {
     "data": {
      "text/plain": [
       "{'osmid': 330685750,\n",
       " 'highway': 'residential',\n",
       " 'lanes': '1',\n",
       " 'oneway': False,\n",
       " 'reversed': True,\n",
       " 'length': np.float64(10.114138764229109)}"
      ]
     },
     "execution_count": 28,
     "metadata": {},
     "output_type": "execute_result"
    }
   ],
   "execution_count": 28
  },
  {
   "metadata": {
    "ExecuteTime": {
     "end_time": "2025-05-18T18:21:50.220753200Z",
     "start_time": "2025-05-04T15:54:33.298282Z"
    }
   },
   "cell_type": "code",
   "source": "G_di.nodes[3376781933]",
   "id": "292665e80eb87530",
   "outputs": [
    {
     "data": {
      "text/plain": [
       "{'y': 50.0686155, 'x': 19.9159768, 'street_count': 1}"
      ]
     },
     "execution_count": 30,
     "metadata": {},
     "output_type": "execute_result"
    }
   ],
   "execution_count": 30
  },
  {
   "metadata": {
    "ExecuteTime": {
     "end_time": "2025-05-18T18:21:50.220753200Z",
     "start_time": "2025-05-04T15:54:33.722959Z"
    }
   },
   "cell_type": "code",
   "source": "G_di.nodes[3376781934]",
   "id": "fe0f602d5b6db9ce",
   "outputs": [
    {
     "data": {
      "text/plain": [
       "{'y': 50.0686232, 'x': 19.9158356, 'street_count': 3}"
      ]
     },
     "execution_count": 31,
     "metadata": {},
     "output_type": "execute_result"
    }
   ],
   "execution_count": 31
  },
  {
   "metadata": {
    "ExecuteTime": {
     "end_time": "2025-05-18T18:21:50.230859900Z",
     "start_time": "2025-05-05T20:14:14.779459Z"
    }
   },
   "cell_type": "code",
   "source": "{edge: G_di.edges[*edge] for edge in set(G_di.in_edges(3376781934)) | set(G_di.out_edges(3376781934))}",
   "id": "2969cef4d017f046",
   "outputs": [
    {
     "data": {
      "text/plain": [
       "{(3376781933, 3376781934): {'osmid': 330685750,\n",
       "  'highway': 'residential',\n",
       "  'lanes': '1',\n",
       "  'oneway': False,\n",
       "  'reversed': True,\n",
       "  'length': np.float64(10.114138764229109)},\n",
       " (281474691, 3376781934): {'osmid': 330685750,\n",
       "  'highway': 'residential',\n",
       "  'lanes': '1',\n",
       "  'oneway': False,\n",
       "  'reversed': False,\n",
       "  'length': np.float64(37.37553499032879),\n",
       "  'geometry': <LINESTRING (19.915 50.069, 19.915 50.069, 19.916 50.069)>},\n",
       " (3376781934, 281474691): {'osmid': 330685750,\n",
       "  'highway': 'residential',\n",
       "  'lanes': '1',\n",
       "  'oneway': False,\n",
       "  'reversed': True,\n",
       "  'length': np.float64(37.37553499032879),\n",
       "  'geometry': <LINESTRING (19.916 50.069, 19.915 50.069, 19.915 50.069)>},\n",
       " (3376781934, 3376781933): {'osmid': 330685750,\n",
       "  'highway': 'residential',\n",
       "  'lanes': '1',\n",
       "  'oneway': False,\n",
       "  'reversed': False,\n",
       "  'length': np.float64(10.114138764229109)}}"
      ]
     },
     "execution_count": 38,
     "metadata": {},
     "output_type": "execute_result"
    }
   ],
   "execution_count": 38
  },
  {
   "metadata": {
    "ExecuteTime": {
     "end_time": "2025-05-18T18:21:50.230859900Z",
     "start_time": "2025-05-05T20:13:11.090642Z"
    }
   },
   "cell_type": "code",
   "source": "set(G_di.out_edges(3376781934))",
   "id": "86e209d027b7842e",
   "outputs": [
    {
     "data": {
      "text/plain": [
       "[(3376781934, 3376781933), (3376781934, 281474691)]"
      ]
     },
     "execution_count": 36,
     "metadata": {},
     "output_type": "execute_result"
    }
   ],
   "execution_count": 36
  },
  {
   "metadata": {},
   "cell_type": "code",
   "outputs": [],
   "execution_count": null,
   "source": "from shapely import LineString",
   "id": "aeb31a011ba9ed94"
  },
  {
   "metadata": {
    "ExecuteTime": {
     "end_time": "2025-05-18T18:21:50.230859900Z",
     "start_time": "2025-05-04T15:55:42.523666Z"
    }
   },
   "cell_type": "code",
   "source": [
    "from shapely import LineString\n",
    "a = LineString([[0, 0], [1, 0], [1, 1]])\n",
    "a"
   ],
   "id": "a2c39f8e3a7f5356",
   "outputs": [
    {
     "data": {
      "text/plain": [
       "<LINESTRING (0 0, 1 0, 1 1)>"
      ],
      "image/svg+xml": "<svg xmlns=\"http://www.w3.org/2000/svg\" xmlns:xlink=\"http://www.w3.org/1999/xlink\" width=\"100.0\" height=\"100.0\" viewBox=\"-0.04 -0.04 1.08 1.08\" preserveAspectRatio=\"xMinYMin meet\"><g transform=\"matrix(1,0,0,-1,0,1.0)\"><polyline fill=\"none\" stroke=\"#66cc99\" stroke-width=\"0.0216\" points=\"0.0,0.0 1.0,0.0 1.0,1.0\" opacity=\"0.8\" /></g></svg>"
     },
     "execution_count": 34,
     "metadata": {},
     "output_type": "execute_result"
    }
   ],
   "execution_count": 34
  },
  {
   "metadata": {
    "ExecuteTime": {
     "end_time": "2025-05-18T18:21:50.241814900Z",
     "start_time": "2025-05-05T18:58:45.210612Z"
    }
   },
   "cell_type": "code",
   "source": [
    "import numpy as np\n",
    "\n",
    "a = np.array([[1, 2, 2, 0], [0, 0, 0, 0]])\n",
    "a"
   ],
   "id": "3a6d333ce1ce3029",
   "outputs": [
    {
     "data": {
      "text/plain": [
       "array([[1, 2, 2, 0],\n",
       "       [0, 0, 0, 0]])"
      ]
     },
     "execution_count": 26,
     "metadata": {},
     "output_type": "execute_result"
    }
   ],
   "execution_count": 26
  },
  {
   "metadata": {
    "ExecuteTime": {
     "end_time": "2025-05-18T18:21:50.241814900Z",
     "start_time": "2025-05-05T18:59:41.482869Z"
    }
   },
   "cell_type": "code",
   "source": "np.any(a == 1)",
   "id": "6b3dd36ea6c906dd",
   "outputs": [
    {
     "data": {
      "text/plain": [
       "np.True_"
      ]
     },
     "execution_count": 30,
     "metadata": {},
     "output_type": "execute_result"
    }
   ],
   "execution_count": 30
  },
  {
   "metadata": {},
   "cell_type": "code",
   "outputs": [],
   "execution_count": null,
   "source": "",
   "id": "f25609fed71a6d74"
  }
 ],
 "metadata": {
  "kernelspec": {
   "display_name": "osmnx-examples",
   "language": "python",
   "name": "osmnx-examples"
  },
  "language_info": {
   "codemirror_mode": {
    "name": "ipython",
    "version": 3
   },
   "file_extension": ".py",
   "mimetype": "text/x-python",
   "name": "python",
   "nbconvert_exporter": "python",
   "pygments_lexer": "ipython3",
   "version": "3.12.1"
  }
 },
 "nbformat": 4,
 "nbformat_minor": 5
}
